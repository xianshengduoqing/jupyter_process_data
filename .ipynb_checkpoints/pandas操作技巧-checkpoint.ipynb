{
 "cells": [
  {
   "cell_type": "markdown",
   "metadata": {},
   "source": [
    "####### 读取文件"
   ]
  },
  {
   "cell_type": "code",
   "execution_count": 1,
   "metadata": {},
   "outputs": [],
   "source": [
    "import pandas as pd\n",
    "import numpy as np\n",
    "path = r\"D:\\a_task\\t5_obd_hbase_final_code\\data_west\\sources\\2019-12-09\\00\\gpd_west_east1576131441.csv\"\n",
    "df = pd.read_csv(path,delimiter=\",\",encoding=\"utf-8\",header=0)\n"
   ]
  },
  {
   "cell_type": "markdown",
   "metadata": {},
   "source": [
    "####### df 属性"
   ]
  },
  {
   "cell_type": "code",
   "execution_count": 2,
   "metadata": {},
   "outputs": [
    {
     "data": {
      "text/html": [
       "<div>\n",
       "<style scoped>\n",
       "    .dataframe tbody tr th:only-of-type {\n",
       "        vertical-align: middle;\n",
       "    }\n",
       "\n",
       "    .dataframe tbody tr th {\n",
       "        vertical-align: top;\n",
       "    }\n",
       "\n",
       "    .dataframe thead th {\n",
       "        text-align: right;\n",
       "    }\n",
       "</style>\n",
       "<table border=\"1\" class=\"dataframe\">\n",
       "  <thead>\n",
       "    <tr style=\"text-align: right;\">\n",
       "      <th></th>\n",
       "      <th>vid</th>\n",
       "      <th>gDate</th>\n",
       "      <th>lat</th>\n",
       "      <th>lng</th>\n",
       "      <th>speed</th>\n",
       "      <th>downScrSensorOutput</th>\n",
       "      <th>sensorInputQuantity</th>\n",
       "      <th>engineFuelFlow</th>\n",
       "      <th>engineRotation</th>\n",
       "      <th>outputTorqueOfEngine</th>\n",
       "      <th>roadId</th>\n",
       "    </tr>\n",
       "  </thead>\n",
       "  <tbody>\n",
       "    <tr>\n",
       "      <th>0</th>\n",
       "      <td>10298</td>\n",
       "      <td>2019/12/9 0:00</td>\n",
       "      <td>39.918091</td>\n",
       "      <td>116.350248</td>\n",
       "      <td>63.890</td>\n",
       "      <td>106.70</td>\n",
       "      <td>217.0</td>\n",
       "      <td>8.6</td>\n",
       "      <td>1342.5</td>\n",
       "      <td>44.0</td>\n",
       "      <td>128488608</td>\n",
       "    </tr>\n",
       "    <tr>\n",
       "      <th>1</th>\n",
       "      <td>1083</td>\n",
       "      <td>2019/12/9 0:00</td>\n",
       "      <td>39.925553</td>\n",
       "      <td>116.367097</td>\n",
       "      <td>34.304</td>\n",
       "      <td>-2.40</td>\n",
       "      <td>NaN</td>\n",
       "      <td>NaN</td>\n",
       "      <td>NaN</td>\n",
       "      <td>-9.0</td>\n",
       "      <td>156465481</td>\n",
       "    </tr>\n",
       "    <tr>\n",
       "      <th>2</th>\n",
       "      <td>11809</td>\n",
       "      <td>NaN</td>\n",
       "      <td>39.947573</td>\n",
       "      <td>116.399417</td>\n",
       "      <td>72.312</td>\n",
       "      <td>162.15</td>\n",
       "      <td>213.6</td>\n",
       "      <td>7.9</td>\n",
       "      <td>1524.0</td>\n",
       "      <td>30.0</td>\n",
       "      <td>103140413</td>\n",
       "    </tr>\n",
       "    <tr>\n",
       "      <th>3</th>\n",
       "      <td>12514</td>\n",
       "      <td>2019/12/9 0:00</td>\n",
       "      <td>39.937772</td>\n",
       "      <td>116.341798</td>\n",
       "      <td>NaN</td>\n",
       "      <td>655.35</td>\n",
       "      <td>NaN</td>\n",
       "      <td>NaN</td>\n",
       "      <td>NaN</td>\n",
       "      <td>NaN</td>\n",
       "      <td>60500535</td>\n",
       "    </tr>\n",
       "    <tr>\n",
       "      <th>4</th>\n",
       "      <td>12919</td>\n",
       "      <td>NaN</td>\n",
       "      <td>39.945062</td>\n",
       "      <td>116.360563</td>\n",
       "      <td>5.437</td>\n",
       "      <td>3012.75</td>\n",
       "      <td>88.7</td>\n",
       "      <td>1.2</td>\n",
       "      <td>1057.5</td>\n",
       "      <td>125.0</td>\n",
       "      <td>59189091</td>\n",
       "    </tr>\n",
       "  </tbody>\n",
       "</table>\n",
       "</div>"
      ],
      "text/plain": [
       "     vid           gDate        lat         lng   speed  downScrSensorOutput  \\\n",
       "0  10298  2019/12/9 0:00  39.918091  116.350248  63.890               106.70   \n",
       "1   1083  2019/12/9 0:00  39.925553  116.367097  34.304                -2.40   \n",
       "2  11809             NaN  39.947573  116.399417  72.312               162.15   \n",
       "3  12514  2019/12/9 0:00  39.937772  116.341798     NaN               655.35   \n",
       "4  12919             NaN  39.945062  116.360563   5.437              3012.75   \n",
       "\n",
       "   sensorInputQuantity  engineFuelFlow  engineRotation  outputTorqueOfEngine  \\\n",
       "0                217.0             8.6          1342.5                  44.0   \n",
       "1                  NaN             NaN             NaN                  -9.0   \n",
       "2                213.6             7.9          1524.0                  30.0   \n",
       "3                  NaN             NaN             NaN                   NaN   \n",
       "4                 88.7             1.2          1057.5                 125.0   \n",
       "\n",
       "      roadId  \n",
       "0  128488608  \n",
       "1  156465481  \n",
       "2  103140413  \n",
       "3   60500535  \n",
       "4   59189091  "
      ]
     },
     "execution_count": 2,
     "metadata": {},
     "output_type": "execute_result"
    }
   ],
   "source": [
    "df.head(5)\n",
    "#df.tail(5)"
   ]
  },
  {
   "cell_type": "code",
   "execution_count": 3,
   "metadata": {},
   "outputs": [
    {
     "name": "stdout",
     "output_type": "stream",
     "text": [
      "df.index:\n",
      " RangeIndex(start=0, stop=122070, step=1)\n",
      "取出index:\n",
      " [     0      1      2 ... 122067 122068 122069]\n",
      "df.dtypes:\n",
      " vid                       int64\n",
      "gDate                    object\n",
      "lat                     float64\n",
      "lng                     float64\n",
      "speed                   float64\n",
      "downScrSensorOutput     float64\n",
      "sensorInputQuantity     float64\n",
      "engineFuelFlow          float64\n",
      "engineRotation          float64\n",
      "outputTorqueOfEngine    float64\n",
      "roadId                    int64\n",
      "dtype: object\n",
      "维度df.ndim:\n",
      " 2\n",
      "df.shape:\n",
      " (122070, 11)\n",
      "判断为空df.empty:\n",
      " False\n"
     ]
    }
   ],
   "source": [
    "print(\"df.index:\\n\",df.index)\n",
    "print(\"取出index:\\n\",df.index.values)\n",
    "print(\"df.dtypes:\\n\",df.dtypes)\n",
    "print(\"维度df.ndim:\\n\",df.ndim)\n",
    "print(\"df.shape:\\n\",df.shape)\n",
    "print(\"判断为空df.empty:\\n\",df.empty)"
   ]
  },
  {
   "cell_type": "code",
   "execution_count": 4,
   "metadata": {},
   "outputs": [],
   "source": [
    "####### df.astype 改字段属性"
   ]
  },
  {
   "cell_type": "code",
   "execution_count": 5,
   "metadata": {},
   "outputs": [
    {
     "name": "stdout",
     "output_type": "stream",
     "text": [
      "vid                       int64\n",
      "gDate                    object\n",
      "lat                     float64\n",
      "lng                     float64\n",
      "speed                   float64\n",
      "downScrSensorOutput      object\n",
      "sensorInputQuantity     float64\n",
      "engineFuelFlow          float64\n",
      "engineRotation          float64\n",
      "outputTorqueOfEngine    float64\n",
      "roadId                    int64\n",
      "dtype: object\n"
     ]
    }
   ],
   "source": [
    "df = df.astype({\"downScrSensorOutput\":\"str\"})#必须有变量接受\n",
    " \n",
    "print(df.dtypes)"
   ]
  },
  {
   "cell_type": "markdown",
   "metadata": {},
   "source": [
    "####### df.copy() 深度拷贝 ，在查询筛选出来的数据 做修改删除时，最好做深度拷贝，否则报错"
   ]
  },
  {
   "cell_type": "code",
   "execution_count": 6,
   "metadata": {},
   "outputs": [
    {
     "name": "stdout",
     "output_type": "stream",
     "text": [
      "0       NaN\n",
      "1    34.304\n",
      "2       NaN\n",
      "3       NaN\n",
      "4     5.437\n",
      "Name: speed, dtype: float64\n"
     ]
    },
    {
     "name": "stderr",
     "output_type": "stream",
     "text": [
      "C:\\Users\\YSRD-B-0048\\Anaconda3\\lib\\site-packages\\ipykernel_launcher.py:2: SettingWithCopyWarning: \n",
      "A value is trying to be set on a copy of a slice from a DataFrame\n",
      "\n",
      "See the caveats in the documentation: http://pandas.pydata.org/pandas-docs/stable/user_guide/indexing.html#returning-a-view-versus-a-copy\n",
      "  \n"
     ]
    }
   ],
   "source": [
    "df2 = df[\"speed\"]\n",
    "df2[df2>60]=None\n",
    "print(df2.head(5))"
   ]
  },
  {
   "cell_type": "markdown",
   "metadata": {},
   "source": [
    "# df常用的统计"
   ]
  },
  {
   "cell_type": "code",
   "execution_count": 7,
   "metadata": {},
   "outputs": [
    {
     "name": "stdout",
     "output_type": "stream",
     "text": [
      "缺失数统计:\n",
      " <class 'pandas.core.series.Series'> \n",
      " vid                         0\n",
      "gDate                       5\n",
      "lat                         0\n",
      "lng                         0\n",
      "speed                   87825\n",
      "downScrSensorOutput         0\n",
      "sensorInputQuantity     16222\n",
      "engineFuelFlow          19434\n",
      "engineRotation          16199\n",
      "outputTorqueOfEngine    23046\n",
      "roadId                      0\n",
      "dtype: int64\n",
      "df.sum()\n"
     ]
    }
   ],
   "source": [
    "print(\"缺失数统计:\\n\",type(df.count()),\"\\n\",122070-df.count())\n",
    "print(\"df.sum()\")"
   ]
  },
  {
   "cell_type": "markdown",
   "metadata": {},
   "source": [
    "### df常用的查询赛选数据\n",
    "\"通常我们都要从df 中筛选出自己想要的数据\n",
    "常用方法\n",
    "df[(df[\"字段名\"]>0)&(df[\"字段名\"]<10)]\n",
    "df.query()\n",
    "df.loc\""
   ]
  },
  {
   "cell_type": "markdown",
   "metadata": {},
   "source": [
    "##### 1、df[(df[\"speed\"]>0) & (df[\"speed\"]<10)] 逻辑判断必须有（）"
   ]
  },
  {
   "cell_type": "code",
   "execution_count": 8,
   "metadata": {},
   "outputs": [
    {
     "name": "stdout",
     "output_type": "stream",
     "text": [
      "     vid           gDate        lat         lng  speed downScrSensorOutput  \\\n",
      "4  12919             NaN  39.945062  116.360563  5.437             3012.75   \n",
      "9  16226  2019/12/9 0:00  39.957245  116.401703  3.500               120.6   \n",
      "\n",
      "   sensorInputQuantity  engineFuelFlow  engineRotation  outputTorqueOfEngine  \\\n",
      "4                 88.7             1.2          1057.5                 125.0   \n",
      "9                 38.4             0.9           775.0                   NaN   \n",
      "\n",
      "      roadId  \n",
      "4   59189091  \n",
      "9  175425324  \n"
     ]
    }
   ],
   "source": [
    "df_s = df[(df[\"speed\"]>0) & (df[\"speed\"]<10)]## \n",
    "print(df_s.head(2))"
   ]
  },
  {
   "cell_type": "markdown",
   "metadata": {},
   "source": [
    "##### 2、df.loc 最常用"
   ]
  },
  {
   "cell_type": "code",
   "execution_count": 9,
   "metadata": {},
   "outputs": [
    {
     "name": "stdout",
     "output_type": "stream",
     "text": [
      "df.loc[行，列]\n"
     ]
    },
    {
     "data": {
      "text/html": [
       "<div>\n",
       "<style scoped>\n",
       "    .dataframe tbody tr th:only-of-type {\n",
       "        vertical-align: middle;\n",
       "    }\n",
       "\n",
       "    .dataframe tbody tr th {\n",
       "        vertical-align: top;\n",
       "    }\n",
       "\n",
       "    .dataframe thead th {\n",
       "        text-align: right;\n",
       "    }\n",
       "</style>\n",
       "<table border=\"1\" class=\"dataframe\">\n",
       "  <thead>\n",
       "    <tr style=\"text-align: right;\">\n",
       "      <th></th>\n",
       "      <th>speed</th>\n",
       "      <th>gDate</th>\n",
       "    </tr>\n",
       "  </thead>\n",
       "  <tbody>\n",
       "    <tr>\n",
       "      <th>2</th>\n",
       "      <td>NaN</td>\n",
       "      <td>NaN</td>\n",
       "    </tr>\n",
       "    <tr>\n",
       "      <th>3</th>\n",
       "      <td>NaN</td>\n",
       "      <td>2019/12/9 0:00</td>\n",
       "    </tr>\n",
       "  </tbody>\n",
       "</table>\n",
       "</div>"
      ],
      "text/plain": [
       "   speed           gDate\n",
       "2    NaN             NaN\n",
       "3    NaN  2019/12/9 0:00"
      ]
     },
     "execution_count": 9,
     "metadata": {},
     "output_type": "execute_result"
    }
   ],
   "source": [
    "print(\"df.loc[行，列]\")\n",
    "df_s2 = df.loc[2:10,[\"speed\",\"gDate\"]]\n",
    "df_s2.head(2)"
   ]
  },
  {
   "cell_type": "code",
   "execution_count": 10,
   "metadata": {},
   "outputs": [
    {
     "name": "stdout",
     "output_type": "stream",
     "text": [
      "df.loc筛选1：\n"
     ]
    },
    {
     "data": {
      "text/html": [
       "<div>\n",
       "<style scoped>\n",
       "    .dataframe tbody tr th:only-of-type {\n",
       "        vertical-align: middle;\n",
       "    }\n",
       "\n",
       "    .dataframe tbody tr th {\n",
       "        vertical-align: top;\n",
       "    }\n",
       "\n",
       "    .dataframe thead th {\n",
       "        text-align: right;\n",
       "    }\n",
       "</style>\n",
       "<table border=\"1\" class=\"dataframe\">\n",
       "  <thead>\n",
       "    <tr style=\"text-align: right;\">\n",
       "      <th></th>\n",
       "      <th>vid</th>\n",
       "      <th>gDate</th>\n",
       "      <th>lat</th>\n",
       "      <th>lng</th>\n",
       "      <th>speed</th>\n",
       "      <th>downScrSensorOutput</th>\n",
       "      <th>sensorInputQuantity</th>\n",
       "      <th>engineFuelFlow</th>\n",
       "      <th>engineRotation</th>\n",
       "      <th>outputTorqueOfEngine</th>\n",
       "      <th>roadId</th>\n",
       "    </tr>\n",
       "  </thead>\n",
       "  <tbody>\n",
       "    <tr>\n",
       "      <th>63</th>\n",
       "      <td>7269</td>\n",
       "      <td>2019/12/9 0:00</td>\n",
       "      <td>39.898920</td>\n",
       "      <td>116.393627</td>\n",
       "      <td>9.414</td>\n",
       "      <td>655.35</td>\n",
       "      <td>161.60</td>\n",
       "      <td>7.75</td>\n",
       "      <td>1178.5</td>\n",
       "      <td>42.0</td>\n",
       "      <td>194280218</td>\n",
       "    </tr>\n",
       "    <tr>\n",
       "      <th>147</th>\n",
       "      <td>17233</td>\n",
       "      <td>2019/12/9 0:00</td>\n",
       "      <td>39.890655</td>\n",
       "      <td>116.395241</td>\n",
       "      <td>9.500</td>\n",
       "      <td>139.6</td>\n",
       "      <td>41.25</td>\n",
       "      <td>0.55</td>\n",
       "      <td>769.5</td>\n",
       "      <td>NaN</td>\n",
       "      <td>240331155</td>\n",
       "    </tr>\n",
       "  </tbody>\n",
       "</table>\n",
       "</div>"
      ],
      "text/plain": [
       "       vid           gDate        lat         lng  speed downScrSensorOutput  \\\n",
       "63    7269  2019/12/9 0:00  39.898920  116.393627  9.414              655.35   \n",
       "147  17233  2019/12/9 0:00  39.890655  116.395241  9.500               139.6   \n",
       "\n",
       "     sensorInputQuantity  engineFuelFlow  engineRotation  \\\n",
       "63                161.60            7.75          1178.5   \n",
       "147                41.25            0.55           769.5   \n",
       "\n",
       "     outputTorqueOfEngine     roadId  \n",
       "63                   42.0  194280218  \n",
       "147                   NaN  240331155  "
      ]
     },
     "execution_count": 10,
     "metadata": {},
     "output_type": "execute_result"
    }
   ],
   "source": [
    "print(\"df.loc筛选1：\")\n",
    "df_s3 = df.loc[(df[\"speed\"]<10)&(df[\"speed\"]>8),:]\n",
    "df_s3.head(2)"
   ]
  },
  {
   "cell_type": "code",
   "execution_count": 11,
   "metadata": {},
   "outputs": [
    {
     "name": "stdout",
     "output_type": "stream",
     "text": [
      "df.loc筛选2：花样嵌套,里面可以嵌套各种判断表达式\n"
     ]
    },
    {
     "data": {
      "text/html": [
       "<div>\n",
       "<style scoped>\n",
       "    .dataframe tbody tr th:only-of-type {\n",
       "        vertical-align: middle;\n",
       "    }\n",
       "\n",
       "    .dataframe tbody tr th {\n",
       "        vertical-align: top;\n",
       "    }\n",
       "\n",
       "    .dataframe thead th {\n",
       "        text-align: right;\n",
       "    }\n",
       "</style>\n",
       "<table border=\"1\" class=\"dataframe\">\n",
       "  <thead>\n",
       "    <tr style=\"text-align: right;\">\n",
       "      <th></th>\n",
       "      <th>vid</th>\n",
       "      <th>gDate</th>\n",
       "      <th>lat</th>\n",
       "      <th>lng</th>\n",
       "      <th>speed</th>\n",
       "      <th>downScrSensorOutput</th>\n",
       "      <th>sensorInputQuantity</th>\n",
       "      <th>engineFuelFlow</th>\n",
       "      <th>engineRotation</th>\n",
       "      <th>outputTorqueOfEngine</th>\n",
       "      <th>roadId</th>\n",
       "    </tr>\n",
       "  </thead>\n",
       "  <tbody>\n",
       "    <tr>\n",
       "      <th>159</th>\n",
       "      <td>25875</td>\n",
       "      <td>2019/12/9 0:00</td>\n",
       "      <td>39.944055</td>\n",
       "      <td>116.400776</td>\n",
       "      <td>1.593</td>\n",
       "      <td>299.9</td>\n",
       "      <td>74.50</td>\n",
       "      <td>0.65</td>\n",
       "      <td>752.250</td>\n",
       "      <td>NaN</td>\n",
       "      <td>30802810</td>\n",
       "    </tr>\n",
       "    <tr>\n",
       "      <th>183</th>\n",
       "      <td>18511</td>\n",
       "      <td>2019/12/9 0:00</td>\n",
       "      <td>39.889880</td>\n",
       "      <td>116.429146</td>\n",
       "      <td>2.500</td>\n",
       "      <td>655.35</td>\n",
       "      <td>39.35</td>\n",
       "      <td>0.90</td>\n",
       "      <td>843.375</td>\n",
       "      <td>-2.0</td>\n",
       "      <td>107129591</td>\n",
       "    </tr>\n",
       "  </tbody>\n",
       "</table>\n",
       "</div>"
      ],
      "text/plain": [
       "       vid           gDate        lat         lng  speed downScrSensorOutput  \\\n",
       "159  25875  2019/12/9 0:00  39.944055  116.400776  1.593               299.9   \n",
       "183  18511  2019/12/9 0:00  39.889880  116.429146  2.500              655.35   \n",
       "\n",
       "     sensorInputQuantity  engineFuelFlow  engineRotation  \\\n",
       "159                74.50            0.65         752.250   \n",
       "183                39.35            0.90         843.375   \n",
       "\n",
       "     outputTorqueOfEngine     roadId  \n",
       "159                   NaN   30802810  \n",
       "183                  -2.0  107129591  "
      ]
     },
     "execution_count": 11,
     "metadata": {},
     "output_type": "execute_result"
    }
   ],
   "source": [
    "\n",
    "\n",
    "print(\"df.loc筛选2：花样嵌套,里面可以嵌套各种判断表达式\")\n",
    "df_s4 = df.loc[df.loc[:,\"speed\"]<3,:]\n",
    "df_s4.head(2)"
   ]
  },
  {
   "cell_type": "markdown",
   "metadata": {},
   "source": [
    "##### df.iloc 少用  df.iloc[行索引，列索引]"
   ]
  },
  {
   "cell_type": "code",
   "execution_count": 12,
   "metadata": {},
   "outputs": [
    {
     "name": "stdout",
     "output_type": "stream",
     "text": [
      "索引切片\n"
     ]
    },
    {
     "data": {
      "text/html": [
       "<div>\n",
       "<style scoped>\n",
       "    .dataframe tbody tr th:only-of-type {\n",
       "        vertical-align: middle;\n",
       "    }\n",
       "\n",
       "    .dataframe tbody tr th {\n",
       "        vertical-align: top;\n",
       "    }\n",
       "\n",
       "    .dataframe thead th {\n",
       "        text-align: right;\n",
       "    }\n",
       "</style>\n",
       "<table border=\"1\" class=\"dataframe\">\n",
       "  <thead>\n",
       "    <tr style=\"text-align: right;\">\n",
       "      <th></th>\n",
       "      <th>lat</th>\n",
       "      <th>lng</th>\n",
       "    </tr>\n",
       "  </thead>\n",
       "  <tbody>\n",
       "    <tr>\n",
       "      <th>1</th>\n",
       "      <td>39.925553</td>\n",
       "      <td>116.367097</td>\n",
       "    </tr>\n",
       "  </tbody>\n",
       "</table>\n",
       "</div>"
      ],
      "text/plain": [
       "         lat         lng\n",
       "1  39.925553  116.367097"
      ]
     },
     "execution_count": 12,
     "metadata": {},
     "output_type": "execute_result"
    }
   ],
   "source": [
    "print(\"索引切片\")\n",
    "df_is = df.iloc[1:2,2:4]\n",
    "df_is.head(2)\n",
    "\n",
    "                 "
   ]
  },
  {
   "cell_type": "code",
   "execution_count": 13,
   "metadata": {},
   "outputs": [
    {
     "name": "stdout",
     "output_type": "stream",
     "text": [
      "索引列举必须有中括号\n"
     ]
    },
    {
     "data": {
      "text/html": [
       "<div>\n",
       "<style scoped>\n",
       "    .dataframe tbody tr th:only-of-type {\n",
       "        vertical-align: middle;\n",
       "    }\n",
       "\n",
       "    .dataframe tbody tr th {\n",
       "        vertical-align: top;\n",
       "    }\n",
       "\n",
       "    .dataframe thead th {\n",
       "        text-align: right;\n",
       "    }\n",
       "</style>\n",
       "<table border=\"1\" class=\"dataframe\">\n",
       "  <thead>\n",
       "    <tr style=\"text-align: right;\">\n",
       "      <th></th>\n",
       "      <th>lat</th>\n",
       "      <th>speed</th>\n",
       "    </tr>\n",
       "  </thead>\n",
       "  <tbody>\n",
       "    <tr>\n",
       "      <th>1</th>\n",
       "      <td>39.925553</td>\n",
       "      <td>34.304</td>\n",
       "    </tr>\n",
       "    <tr>\n",
       "      <th>2</th>\n",
       "      <td>39.947573</td>\n",
       "      <td>NaN</td>\n",
       "    </tr>\n",
       "  </tbody>\n",
       "</table>\n",
       "</div>"
      ],
      "text/plain": [
       "         lat   speed\n",
       "1  39.925553  34.304\n",
       "2  39.947573     NaN"
      ]
     },
     "execution_count": 13,
     "metadata": {},
     "output_type": "execute_result"
    }
   ],
   "source": [
    "print(\"索引列举必须有中括号\")\n",
    "df_is2 = df.iloc[[1,2],[2,4]]\n",
    "df_is2.head(2)"
   ]
  },
  {
   "cell_type": "code",
   "execution_count": null,
   "metadata": {},
   "outputs": [],
   "source": []
  },
  {
   "cell_type": "markdown",
   "metadata": {},
   "source": [
    "##### df.ix  是 df.loc与  df.iloc混用(不支持这么干)"
   ]
  },
  {
   "cell_type": "code",
   "execution_count": 14,
   "metadata": {},
   "outputs": [
    {
     "name": "stderr",
     "output_type": "stream",
     "text": [
      "C:\\Users\\YSRD-B-0048\\Anaconda3\\lib\\site-packages\\ipykernel_launcher.py:1: FutureWarning: \n",
      ".ix is deprecated. Please use\n",
      ".loc for label based indexing or\n",
      ".iloc for positional indexing\n",
      "\n",
      "See the documentation here:\n",
      "http://pandas.pydata.org/pandas-docs/stable/user_guide/indexing.html#ix-indexer-is-deprecated\n",
      "  \"\"\"Entry point for launching an IPython kernel.\n",
      "C:\\Users\\YSRD-B-0048\\Anaconda3\\lib\\site-packages\\pandas\\core\\indexing.py:822: FutureWarning: \n",
      ".ix is deprecated. Please use\n",
      ".loc for label based indexing or\n",
      ".iloc for positional indexing\n",
      "\n",
      "See the documentation here:\n",
      "http://pandas.pydata.org/pandas-docs/stable/user_guide/indexing.html#ix-indexer-is-deprecated\n",
      "  retval = getattr(retval, self.name)._getitem_axis(key, axis=i)\n"
     ]
    },
    {
     "data": {
      "text/html": [
       "<div>\n",
       "<style scoped>\n",
       "    .dataframe tbody tr th:only-of-type {\n",
       "        vertical-align: middle;\n",
       "    }\n",
       "\n",
       "    .dataframe tbody tr th {\n",
       "        vertical-align: top;\n",
       "    }\n",
       "\n",
       "    .dataframe thead th {\n",
       "        text-align: right;\n",
       "    }\n",
       "</style>\n",
       "<table border=\"1\" class=\"dataframe\">\n",
       "  <thead>\n",
       "    <tr style=\"text-align: right;\">\n",
       "      <th></th>\n",
       "      <th>speed</th>\n",
       "      <th>gDate</th>\n",
       "    </tr>\n",
       "  </thead>\n",
       "  <tbody>\n",
       "    <tr>\n",
       "      <th>4</th>\n",
       "      <td>5.437</td>\n",
       "      <td>NaN</td>\n",
       "    </tr>\n",
       "    <tr>\n",
       "      <th>9</th>\n",
       "      <td>3.500</td>\n",
       "      <td>2019/12/9 0:00</td>\n",
       "    </tr>\n",
       "  </tbody>\n",
       "</table>\n",
       "</div>"
      ],
      "text/plain": [
       "   speed           gDate\n",
       "4  5.437             NaN\n",
       "9  3.500  2019/12/9 0:00"
      ]
     },
     "execution_count": 14,
     "metadata": {},
     "output_type": "execute_result"
    }
   ],
   "source": [
    "df_ix = df.ix[(df[\"speed\"]<10),[\"speed\",\"gDate\"]]\n",
    "df_ix.head(2)"
   ]
  },
  {
   "cell_type": "markdown",
   "metadata": {},
   "source": [
    "##### df.query查询筛选"
   ]
  },
  {
   "cell_type": "code",
   "execution_count": 15,
   "metadata": {},
   "outputs": [
    {
     "name": "stdout",
     "output_type": "stream",
     "text": [
      "df.query('字段名>2'),是直接写字段名哦\n"
     ]
    },
    {
     "data": {
      "text/html": [
       "<div>\n",
       "<style scoped>\n",
       "    .dataframe tbody tr th:only-of-type {\n",
       "        vertical-align: middle;\n",
       "    }\n",
       "\n",
       "    .dataframe tbody tr th {\n",
       "        vertical-align: top;\n",
       "    }\n",
       "\n",
       "    .dataframe thead th {\n",
       "        text-align: right;\n",
       "    }\n",
       "</style>\n",
       "<table border=\"1\" class=\"dataframe\">\n",
       "  <thead>\n",
       "    <tr style=\"text-align: right;\">\n",
       "      <th></th>\n",
       "      <th>vid</th>\n",
       "      <th>gDate</th>\n",
       "      <th>lat</th>\n",
       "      <th>lng</th>\n",
       "      <th>speed</th>\n",
       "      <th>downScrSensorOutput</th>\n",
       "      <th>sensorInputQuantity</th>\n",
       "      <th>engineFuelFlow</th>\n",
       "      <th>engineRotation</th>\n",
       "      <th>outputTorqueOfEngine</th>\n",
       "      <th>roadId</th>\n",
       "    </tr>\n",
       "  </thead>\n",
       "  <tbody>\n",
       "    <tr>\n",
       "      <th>9</th>\n",
       "      <td>16226</td>\n",
       "      <td>2019/12/9 0:00</td>\n",
       "      <td>39.957245</td>\n",
       "      <td>116.401703</td>\n",
       "      <td>3.500</td>\n",
       "      <td>120.6</td>\n",
       "      <td>38.4</td>\n",
       "      <td>0.9</td>\n",
       "      <td>775.0</td>\n",
       "      <td>NaN</td>\n",
       "      <td>175425324</td>\n",
       "    </tr>\n",
       "    <tr>\n",
       "      <th>46</th>\n",
       "      <td>18511</td>\n",
       "      <td>2019/12/9 0:00</td>\n",
       "      <td>39.889880</td>\n",
       "      <td>116.429146</td>\n",
       "      <td>3.398</td>\n",
       "      <td>655.35</td>\n",
       "      <td>38.9</td>\n",
       "      <td>1.0</td>\n",
       "      <td>766.0</td>\n",
       "      <td>NaN</td>\n",
       "      <td>107129591</td>\n",
       "    </tr>\n",
       "  </tbody>\n",
       "</table>\n",
       "</div>"
      ],
      "text/plain": [
       "      vid           gDate        lat         lng  speed downScrSensorOutput  \\\n",
       "9   16226  2019/12/9 0:00  39.957245  116.401703  3.500               120.6   \n",
       "46  18511  2019/12/9 0:00  39.889880  116.429146  3.398              655.35   \n",
       "\n",
       "    sensorInputQuantity  engineFuelFlow  engineRotation  outputTorqueOfEngine  \\\n",
       "9                  38.4             0.9           775.0                   NaN   \n",
       "46                 38.9             1.0           766.0                   NaN   \n",
       "\n",
       "       roadId  \n",
       "9   175425324  \n",
       "46  107129591  "
      ]
     },
     "execution_count": 15,
     "metadata": {},
     "output_type": "execute_result"
    }
   ],
   "source": [
    "print(\"df.query('字段名>2'),是直接写字段名哦\")\n",
    "df_q = df.query(\"(speed>2)&(speed<4)\")\n",
    "df_q.head(2)"
   ]
  },
  {
   "cell_type": "markdown",
   "metadata": {},
   "source": [
    "# 修改"
   ]
  },
  {
   "cell_type": "markdown",
   "metadata": {},
   "source": [
    "###### 异常值修改填充\n",
    "##### df 修改数据，数据查出来了，就需要"
   ]
  },
  {
   "cell_type": "code",
   "execution_count": 16,
   "metadata": {},
   "outputs": [
    {
     "data": {
      "text/html": [
       "<div>\n",
       "<style scoped>\n",
       "    .dataframe tbody tr th:only-of-type {\n",
       "        vertical-align: middle;\n",
       "    }\n",
       "\n",
       "    .dataframe tbody tr th {\n",
       "        vertical-align: top;\n",
       "    }\n",
       "\n",
       "    .dataframe thead th {\n",
       "        text-align: right;\n",
       "    }\n",
       "</style>\n",
       "<table border=\"1\" class=\"dataframe\">\n",
       "  <thead>\n",
       "    <tr style=\"text-align: right;\">\n",
       "      <th></th>\n",
       "      <th>speed</th>\n",
       "      <th>lng</th>\n",
       "      <th>lat</th>\n",
       "      <th>gDate</th>\n",
       "    </tr>\n",
       "  </thead>\n",
       "  <tbody>\n",
       "    <tr>\n",
       "      <th>0</th>\n",
       "      <td>NaN</td>\n",
       "      <td>116.350248</td>\n",
       "      <td>39.918091</td>\n",
       "      <td>2019/12/9 0:00</td>\n",
       "    </tr>\n",
       "    <tr>\n",
       "      <th>1</th>\n",
       "      <td>34.304</td>\n",
       "      <td>116.367097</td>\n",
       "      <td>39.925553</td>\n",
       "      <td>2019/12/9 0:00</td>\n",
       "    </tr>\n",
       "    <tr>\n",
       "      <th>2</th>\n",
       "      <td>NaN</td>\n",
       "      <td>116.399417</td>\n",
       "      <td>39.947573</td>\n",
       "      <td>NaN</td>\n",
       "    </tr>\n",
       "    <tr>\n",
       "      <th>3</th>\n",
       "      <td>NaN</td>\n",
       "      <td>116.341798</td>\n",
       "      <td>39.937772</td>\n",
       "      <td>2019/12/9 0:00</td>\n",
       "    </tr>\n",
       "    <tr>\n",
       "      <th>4</th>\n",
       "      <td>5.437</td>\n",
       "      <td>116.360563</td>\n",
       "      <td>39.945062</td>\n",
       "      <td>NaN</td>\n",
       "    </tr>\n",
       "    <tr>\n",
       "      <th>5</th>\n",
       "      <td>NaN</td>\n",
       "      <td>116.425893</td>\n",
       "      <td>39.920667</td>\n",
       "      <td>2019/12/9 0:00</td>\n",
       "    </tr>\n",
       "    <tr>\n",
       "      <th>6</th>\n",
       "      <td>NaN</td>\n",
       "      <td>116.367585</td>\n",
       "      <td>39.931162</td>\n",
       "      <td>NaN</td>\n",
       "    </tr>\n",
       "    <tr>\n",
       "      <th>7</th>\n",
       "      <td>NaN</td>\n",
       "      <td>116.339233</td>\n",
       "      <td>39.911876</td>\n",
       "      <td>2019/12/9 0:00</td>\n",
       "    </tr>\n",
       "    <tr>\n",
       "      <th>8</th>\n",
       "      <td>NaN</td>\n",
       "      <td>116.421625</td>\n",
       "      <td>39.892520</td>\n",
       "      <td>NaN</td>\n",
       "    </tr>\n",
       "    <tr>\n",
       "      <th>9</th>\n",
       "      <td>3.500</td>\n",
       "      <td>116.401703</td>\n",
       "      <td>39.957245</td>\n",
       "      <td>2019/12/9 0:00</td>\n",
       "    </tr>\n",
       "  </tbody>\n",
       "</table>\n",
       "</div>"
      ],
      "text/plain": [
       "    speed         lng        lat           gDate\n",
       "0     NaN  116.350248  39.918091  2019/12/9 0:00\n",
       "1  34.304  116.367097  39.925553  2019/12/9 0:00\n",
       "2     NaN  116.399417  39.947573             NaN\n",
       "3     NaN  116.341798  39.937772  2019/12/9 0:00\n",
       "4   5.437  116.360563  39.945062             NaN\n",
       "5     NaN  116.425893  39.920667  2019/12/9 0:00\n",
       "6     NaN  116.367585  39.931162             NaN\n",
       "7     NaN  116.339233  39.911876  2019/12/9 0:00\n",
       "8     NaN  116.421625  39.892520             NaN\n",
       "9   3.500  116.401703  39.957245  2019/12/9 0:00"
      ]
     },
     "execution_count": 16,
     "metadata": {},
     "output_type": "execute_result"
    }
   ],
   "source": [
    "df_s = df.loc[0:10,[\"speed\",\"lng\",\"lat\",\"gDate\"]]\n",
    "df_s.head(10)"
   ]
  },
  {
   "cell_type": "code",
   "execution_count": 17,
   "metadata": {},
   "outputs": [
    {
     "data": {
      "text/html": [
       "<div>\n",
       "<style scoped>\n",
       "    .dataframe tbody tr th:only-of-type {\n",
       "        vertical-align: middle;\n",
       "    }\n",
       "\n",
       "    .dataframe tbody tr th {\n",
       "        vertical-align: top;\n",
       "    }\n",
       "\n",
       "    .dataframe thead th {\n",
       "        text-align: right;\n",
       "    }\n",
       "</style>\n",
       "<table border=\"1\" class=\"dataframe\">\n",
       "  <thead>\n",
       "    <tr style=\"text-align: right;\">\n",
       "      <th></th>\n",
       "      <th>speed</th>\n",
       "      <th>lng</th>\n",
       "      <th>lat</th>\n",
       "      <th>gDate</th>\n",
       "    </tr>\n",
       "  </thead>\n",
       "  <tbody>\n",
       "    <tr>\n",
       "      <th>0</th>\n",
       "      <td>NaN</td>\n",
       "      <td>NaN</td>\n",
       "      <td>NaN</td>\n",
       "      <td>None</td>\n",
       "    </tr>\n",
       "    <tr>\n",
       "      <th>1</th>\n",
       "      <td>34.304</td>\n",
       "      <td>116.367097</td>\n",
       "      <td>39.925553</td>\n",
       "      <td>2019/12/9 0:00</td>\n",
       "    </tr>\n",
       "    <tr>\n",
       "      <th>2</th>\n",
       "      <td>NaN</td>\n",
       "      <td>116.399417</td>\n",
       "      <td>39.947573</td>\n",
       "      <td>NaN</td>\n",
       "    </tr>\n",
       "    <tr>\n",
       "      <th>3</th>\n",
       "      <td>NaN</td>\n",
       "      <td>NaN</td>\n",
       "      <td>NaN</td>\n",
       "      <td>None</td>\n",
       "    </tr>\n",
       "    <tr>\n",
       "      <th>4</th>\n",
       "      <td>5.437</td>\n",
       "      <td>116.360563</td>\n",
       "      <td>39.945062</td>\n",
       "      <td>NaN</td>\n",
       "    </tr>\n",
       "    <tr>\n",
       "      <th>5</th>\n",
       "      <td>NaN</td>\n",
       "      <td>116.425893</td>\n",
       "      <td>39.920667</td>\n",
       "      <td>2019/12/9 0:00</td>\n",
       "    </tr>\n",
       "    <tr>\n",
       "      <th>6</th>\n",
       "      <td>NaN</td>\n",
       "      <td>116.367585</td>\n",
       "      <td>39.931162</td>\n",
       "      <td>NaN</td>\n",
       "    </tr>\n",
       "    <tr>\n",
       "      <th>7</th>\n",
       "      <td>NaN</td>\n",
       "      <td>NaN</td>\n",
       "      <td>NaN</td>\n",
       "      <td>None</td>\n",
       "    </tr>\n",
       "    <tr>\n",
       "      <th>8</th>\n",
       "      <td>NaN</td>\n",
       "      <td>116.421625</td>\n",
       "      <td>39.892520</td>\n",
       "      <td>NaN</td>\n",
       "    </tr>\n",
       "    <tr>\n",
       "      <th>9</th>\n",
       "      <td>3.500</td>\n",
       "      <td>116.401703</td>\n",
       "      <td>39.957245</td>\n",
       "      <td>2019/12/9 0:00</td>\n",
       "    </tr>\n",
       "  </tbody>\n",
       "</table>\n",
       "</div>"
      ],
      "text/plain": [
       "    speed         lng        lat           gDate\n",
       "0     NaN         NaN        NaN            None\n",
       "1  34.304  116.367097  39.925553  2019/12/9 0:00\n",
       "2     NaN  116.399417  39.947573             NaN\n",
       "3     NaN         NaN        NaN            None\n",
       "4   5.437  116.360563  39.945062             NaN\n",
       "5     NaN  116.425893  39.920667  2019/12/9 0:00\n",
       "6     NaN  116.367585  39.931162             NaN\n",
       "7     NaN         NaN        NaN            None\n",
       "8     NaN  116.421625  39.892520             NaN\n",
       "9   3.500  116.401703  39.957245  2019/12/9 0:00"
      ]
     },
     "execution_count": 17,
     "metadata": {},
     "output_type": "execute_result"
    }
   ],
   "source": [
    "df_s[df_s[\"lng\"]<116.36]=None\n",
    "df_s.head(10)"
   ]
  },
  {
   "cell_type": "markdown",
   "metadata": {},
   "source": [
    "###### 修改None值 填充"
   ]
  },
  {
   "cell_type": "code",
   "execution_count": 18,
   "metadata": {},
   "outputs": [
    {
     "data": {
      "text/html": [
       "<div>\n",
       "<style scoped>\n",
       "    .dataframe tbody tr th:only-of-type {\n",
       "        vertical-align: middle;\n",
       "    }\n",
       "\n",
       "    .dataframe tbody tr th {\n",
       "        vertical-align: top;\n",
       "    }\n",
       "\n",
       "    .dataframe thead th {\n",
       "        text-align: right;\n",
       "    }\n",
       "</style>\n",
       "<table border=\"1\" class=\"dataframe\">\n",
       "  <thead>\n",
       "    <tr style=\"text-align: right;\">\n",
       "      <th></th>\n",
       "      <th>speed</th>\n",
       "      <th>lng</th>\n",
       "      <th>lat</th>\n",
       "      <th>gDate</th>\n",
       "    </tr>\n",
       "  </thead>\n",
       "  <tbody>\n",
       "    <tr>\n",
       "      <th>0</th>\n",
       "      <td>999.000</td>\n",
       "      <td>999.000000</td>\n",
       "      <td>999.000000</td>\n",
       "      <td>999</td>\n",
       "    </tr>\n",
       "    <tr>\n",
       "      <th>1</th>\n",
       "      <td>34.304</td>\n",
       "      <td>116.367097</td>\n",
       "      <td>39.925553</td>\n",
       "      <td>2019/12/9 0:00</td>\n",
       "    </tr>\n",
       "    <tr>\n",
       "      <th>2</th>\n",
       "      <td>999.000</td>\n",
       "      <td>116.399417</td>\n",
       "      <td>39.947573</td>\n",
       "      <td>999</td>\n",
       "    </tr>\n",
       "    <tr>\n",
       "      <th>3</th>\n",
       "      <td>999.000</td>\n",
       "      <td>999.000000</td>\n",
       "      <td>999.000000</td>\n",
       "      <td>999</td>\n",
       "    </tr>\n",
       "    <tr>\n",
       "      <th>4</th>\n",
       "      <td>5.437</td>\n",
       "      <td>116.360563</td>\n",
       "      <td>39.945062</td>\n",
       "      <td>999</td>\n",
       "    </tr>\n",
       "    <tr>\n",
       "      <th>5</th>\n",
       "      <td>999.000</td>\n",
       "      <td>116.425893</td>\n",
       "      <td>39.920667</td>\n",
       "      <td>2019/12/9 0:00</td>\n",
       "    </tr>\n",
       "    <tr>\n",
       "      <th>6</th>\n",
       "      <td>999.000</td>\n",
       "      <td>116.367585</td>\n",
       "      <td>39.931162</td>\n",
       "      <td>999</td>\n",
       "    </tr>\n",
       "    <tr>\n",
       "      <th>7</th>\n",
       "      <td>999.000</td>\n",
       "      <td>999.000000</td>\n",
       "      <td>999.000000</td>\n",
       "      <td>999</td>\n",
       "    </tr>\n",
       "    <tr>\n",
       "      <th>8</th>\n",
       "      <td>999.000</td>\n",
       "      <td>116.421625</td>\n",
       "      <td>39.892520</td>\n",
       "      <td>999</td>\n",
       "    </tr>\n",
       "    <tr>\n",
       "      <th>9</th>\n",
       "      <td>3.500</td>\n",
       "      <td>116.401703</td>\n",
       "      <td>39.957245</td>\n",
       "      <td>2019/12/9 0:00</td>\n",
       "    </tr>\n",
       "  </tbody>\n",
       "</table>\n",
       "</div>"
      ],
      "text/plain": [
       "     speed         lng         lat           gDate\n",
       "0  999.000  999.000000  999.000000             999\n",
       "1   34.304  116.367097   39.925553  2019/12/9 0:00\n",
       "2  999.000  116.399417   39.947573             999\n",
       "3  999.000  999.000000  999.000000             999\n",
       "4    5.437  116.360563   39.945062             999\n",
       "5  999.000  116.425893   39.920667  2019/12/9 0:00\n",
       "6  999.000  116.367585   39.931162             999\n",
       "7  999.000  999.000000  999.000000             999\n",
       "8  999.000  116.421625   39.892520             999\n",
       "9    3.500  116.401703   39.957245  2019/12/9 0:00"
      ]
     },
     "execution_count": 18,
     "metadata": {},
     "output_type": "execute_result"
    }
   ],
   "source": [
    "df_s2 = df_s.fillna(999)\n",
    "df_s2.head(10)"
   ]
  },
  {
   "cell_type": "markdown",
   "metadata": {},
   "source": [
    "##### 修改符合条件的值"
   ]
  },
  {
   "cell_type": "code",
   "execution_count": 19,
   "metadata": {},
   "outputs": [
    {
     "data": {
      "text/html": [
       "<div>\n",
       "<style scoped>\n",
       "    .dataframe tbody tr th:only-of-type {\n",
       "        vertical-align: middle;\n",
       "    }\n",
       "\n",
       "    .dataframe tbody tr th {\n",
       "        vertical-align: top;\n",
       "    }\n",
       "\n",
       "    .dataframe thead th {\n",
       "        text-align: right;\n",
       "    }\n",
       "</style>\n",
       "<table border=\"1\" class=\"dataframe\">\n",
       "  <thead>\n",
       "    <tr style=\"text-align: right;\">\n",
       "      <th></th>\n",
       "      <th>speed</th>\n",
       "      <th>lng</th>\n",
       "      <th>lat</th>\n",
       "      <th>gDate</th>\n",
       "    </tr>\n",
       "  </thead>\n",
       "  <tbody>\n",
       "    <tr>\n",
       "      <th>0</th>\n",
       "      <td>NaN</td>\n",
       "      <td>NaN</td>\n",
       "      <td>NaN</td>\n",
       "      <td>None</td>\n",
       "    </tr>\n",
       "    <tr>\n",
       "      <th>1</th>\n",
       "      <td>999.0</td>\n",
       "      <td>999.000000</td>\n",
       "      <td>999.000000</td>\n",
       "      <td>999</td>\n",
       "    </tr>\n",
       "    <tr>\n",
       "      <th>2</th>\n",
       "      <td>NaN</td>\n",
       "      <td>116.399417</td>\n",
       "      <td>39.947573</td>\n",
       "      <td>NaN</td>\n",
       "    </tr>\n",
       "    <tr>\n",
       "      <th>3</th>\n",
       "      <td>NaN</td>\n",
       "      <td>NaN</td>\n",
       "      <td>NaN</td>\n",
       "      <td>None</td>\n",
       "    </tr>\n",
       "    <tr>\n",
       "      <th>4</th>\n",
       "      <td>999.0</td>\n",
       "      <td>999.000000</td>\n",
       "      <td>999.000000</td>\n",
       "      <td>999</td>\n",
       "    </tr>\n",
       "  </tbody>\n",
       "</table>\n",
       "</div>"
      ],
      "text/plain": [
       "   speed         lng         lat gDate\n",
       "0    NaN         NaN         NaN  None\n",
       "1  999.0  999.000000  999.000000   999\n",
       "2    NaN  116.399417   39.947573   NaN\n",
       "3    NaN         NaN         NaN  None\n",
       "4  999.0  999.000000  999.000000   999"
      ]
     },
     "execution_count": 19,
     "metadata": {},
     "output_type": "execute_result"
    }
   ],
   "source": [
    "df_s[df_s[\"speed\"]<1000]=999\n",
    "df_s.head()"
   ]
  },
  {
   "cell_type": "markdown",
   "metadata": {},
   "source": [
    "##### df.where 修改值"
   ]
  },
  {
   "cell_type": "code",
   "execution_count": 20,
   "metadata": {},
   "outputs": [],
   "source": [
    "#Series.where(cond, other=nan, inplace=False, axis=None, level=None, errors=‘raise’, try_cast=False, raise_on_error=None)\n",
    "#如果 cond 为真，保持原来的值，否则替换为other， inplace为真标识在原数据上操作\"\"\""
   ]
  },
  {
   "cell_type": "code",
   "execution_count": 21,
   "metadata": {},
   "outputs": [
    {
     "name": "stdout",
     "output_type": "stream",
     "text": [
      "  speed  lng  lat gDate\n",
      "0                      \n",
      "1   999  999  999   999\n"
     ]
    },
    {
     "data": {
      "text/html": [
       "<div>\n",
       "<style scoped>\n",
       "    .dataframe tbody tr th:only-of-type {\n",
       "        vertical-align: middle;\n",
       "    }\n",
       "\n",
       "    .dataframe tbody tr th {\n",
       "        vertical-align: top;\n",
       "    }\n",
       "\n",
       "    .dataframe thead th {\n",
       "        text-align: right;\n",
       "    }\n",
       "</style>\n",
       "<table border=\"1\" class=\"dataframe\">\n",
       "  <thead>\n",
       "    <tr style=\"text-align: right;\">\n",
       "      <th></th>\n",
       "      <th>speed</th>\n",
       "      <th>lng</th>\n",
       "      <th>lat</th>\n",
       "      <th>gDate</th>\n",
       "    </tr>\n",
       "  </thead>\n",
       "  <tbody>\n",
       "    <tr>\n",
       "      <th>0</th>\n",
       "      <td>22.0</td>\n",
       "      <td>22.0</td>\n",
       "      <td>22.0</td>\n",
       "      <td>22</td>\n",
       "    </tr>\n",
       "    <tr>\n",
       "      <th>1</th>\n",
       "      <td>999.0</td>\n",
       "      <td>999.0</td>\n",
       "      <td>999.0</td>\n",
       "      <td>999</td>\n",
       "    </tr>\n",
       "  </tbody>\n",
       "</table>\n",
       "</div>"
      ],
      "text/plain": [
       "   speed    lng    lat gDate\n",
       "0   22.0   22.0   22.0    22\n",
       "1  999.0  999.0  999.0   999"
      ]
     },
     "execution_count": 21,
     "metadata": {},
     "output_type": "execute_result"
    }
   ],
   "source": [
    "df_snull = df_s.where(df_s.notnull(),\"\")\n",
    "print(df_snull.head(2))\n",
    "df_snull = df_s.where(df_s.notnull(),22)\n",
    "df_snull.head(2)"
   ]
  },
  {
   "cell_type": "markdown",
   "metadata": {},
   "source": [
    "###### df.rename修改字段"
   ]
  },
  {
   "cell_type": "code",
   "execution_count": 22,
   "metadata": {},
   "outputs": [
    {
     "name": "stdout",
     "output_type": "stream",
     "text": [
      "Index(['speed', 'lng', 'new_lat', 'gDate'], dtype='object')\n",
      "备注：axis='columns'不能少\n"
     ]
    }
   ],
   "source": [
    "df_s = df_s.rename({\"lat\":\"new_lat\"},axis='columns')\n",
    "print(df_s.columns)\n",
    "print(\"备注：axis='columns'不能少\")"
   ]
  },
  {
   "cell_type": "markdown",
   "metadata": {},
   "source": [
    "##### df.astype修改字段类型"
   ]
  },
  {
   "cell_type": "code",
   "execution_count": 23,
   "metadata": {},
   "outputs": [
    {
     "name": "stdout",
     "output_type": "stream",
     "text": [
      "speed    float64\n",
      "lng        int64\n",
      "lat      float64\n",
      "gDate     object\n",
      "dtype: object\n",
      "speed    float64\n",
      "lng      float64\n",
      "lat      float64\n",
      "gDate     object\n",
      "dtype: object\n"
     ]
    }
   ],
   "source": [
    "df_snull = df_snull.astype({\"lng\":\"int64\"})\n",
    "print(df_snull.dtypes)\n",
    "df_snull[\"lng\"]=df_snull[\"lng\"].astype(\"float64\")\n",
    "print(df_snull.dtypes)"
   ]
  },
  {
   "cell_type": "markdown",
   "metadata": {},
   "source": [
    "# 删除"
   ]
  },
  {
   "cell_type": "code",
   "execution_count": 24,
   "metadata": {},
   "outputs": [
    {
     "data": {
      "text/html": [
       "<div>\n",
       "<style scoped>\n",
       "    .dataframe tbody tr th:only-of-type {\n",
       "        vertical-align: middle;\n",
       "    }\n",
       "\n",
       "    .dataframe tbody tr th {\n",
       "        vertical-align: top;\n",
       "    }\n",
       "\n",
       "    .dataframe thead th {\n",
       "        text-align: right;\n",
       "    }\n",
       "</style>\n",
       "<table border=\"1\" class=\"dataframe\">\n",
       "  <thead>\n",
       "    <tr style=\"text-align: right;\">\n",
       "      <th></th>\n",
       "      <th>speed</th>\n",
       "      <th>lng</th>\n",
       "      <th>new_lat</th>\n",
       "      <th>gDate</th>\n",
       "    </tr>\n",
       "  </thead>\n",
       "  <tbody>\n",
       "    <tr>\n",
       "      <th>0</th>\n",
       "      <td>NaN</td>\n",
       "      <td>NaN</td>\n",
       "      <td>NaN</td>\n",
       "      <td>None</td>\n",
       "    </tr>\n",
       "    <tr>\n",
       "      <th>1</th>\n",
       "      <td>999.0</td>\n",
       "      <td>999.000000</td>\n",
       "      <td>999.000000</td>\n",
       "      <td>999</td>\n",
       "    </tr>\n",
       "    <tr>\n",
       "      <th>2</th>\n",
       "      <td>NaN</td>\n",
       "      <td>116.399417</td>\n",
       "      <td>39.947573</td>\n",
       "      <td>NaN</td>\n",
       "    </tr>\n",
       "    <tr>\n",
       "      <th>3</th>\n",
       "      <td>NaN</td>\n",
       "      <td>NaN</td>\n",
       "      <td>NaN</td>\n",
       "      <td>None</td>\n",
       "    </tr>\n",
       "    <tr>\n",
       "      <th>4</th>\n",
       "      <td>999.0</td>\n",
       "      <td>999.000000</td>\n",
       "      <td>999.000000</td>\n",
       "      <td>999</td>\n",
       "    </tr>\n",
       "  </tbody>\n",
       "</table>\n",
       "</div>"
      ],
      "text/plain": [
       "   speed         lng     new_lat gDate\n",
       "0    NaN         NaN         NaN  None\n",
       "1  999.0  999.000000  999.000000   999\n",
       "2    NaN  116.399417   39.947573   NaN\n",
       "3    NaN         NaN         NaN  None\n",
       "4  999.0  999.000000  999.000000   999"
      ]
     },
     "execution_count": 24,
     "metadata": {},
     "output_type": "execute_result"
    }
   ],
   "source": [
    "drop_df = df_s.copy()\n",
    "drop_df.head()"
   ]
  },
  {
   "cell_type": "code",
   "execution_count": 25,
   "metadata": {},
   "outputs": [],
   "source": [
    "####### 删除列 drop([\"gDate\"])"
   ]
  },
  {
   "cell_type": "code",
   "execution_count": 26,
   "metadata": {},
   "outputs": [
    {
     "data": {
      "text/html": [
       "<div>\n",
       "<style scoped>\n",
       "    .dataframe tbody tr th:only-of-type {\n",
       "        vertical-align: middle;\n",
       "    }\n",
       "\n",
       "    .dataframe tbody tr th {\n",
       "        vertical-align: top;\n",
       "    }\n",
       "\n",
       "    .dataframe thead th {\n",
       "        text-align: right;\n",
       "    }\n",
       "</style>\n",
       "<table border=\"1\" class=\"dataframe\">\n",
       "  <thead>\n",
       "    <tr style=\"text-align: right;\">\n",
       "      <th></th>\n",
       "      <th>speed</th>\n",
       "      <th>new_lat</th>\n",
       "    </tr>\n",
       "  </thead>\n",
       "  <tbody>\n",
       "    <tr>\n",
       "      <th>0</th>\n",
       "      <td>NaN</td>\n",
       "      <td>NaN</td>\n",
       "    </tr>\n",
       "    <tr>\n",
       "      <th>1</th>\n",
       "      <td>999.0</td>\n",
       "      <td>999.000000</td>\n",
       "    </tr>\n",
       "    <tr>\n",
       "      <th>2</th>\n",
       "      <td>NaN</td>\n",
       "      <td>39.947573</td>\n",
       "    </tr>\n",
       "    <tr>\n",
       "      <th>3</th>\n",
       "      <td>NaN</td>\n",
       "      <td>NaN</td>\n",
       "    </tr>\n",
       "    <tr>\n",
       "      <th>4</th>\n",
       "      <td>999.0</td>\n",
       "      <td>999.000000</td>\n",
       "    </tr>\n",
       "  </tbody>\n",
       "</table>\n",
       "</div>"
      ],
      "text/plain": [
       "   speed     new_lat\n",
       "0    NaN         NaN\n",
       "1  999.0  999.000000\n",
       "2    NaN   39.947573\n",
       "3    NaN         NaN\n",
       "4  999.0  999.000000"
      ]
     },
     "execution_count": 26,
     "metadata": {},
     "output_type": "execute_result"
    }
   ],
   "source": [
    "drop_a = drop_df.drop([\"gDate\",\"lng\"],axis=1)\n",
    "drop_a.head()"
   ]
  },
  {
   "cell_type": "code",
   "execution_count": 27,
   "metadata": {},
   "outputs": [],
   "source": [
    "###### 删除行"
   ]
  },
  {
   "cell_type": "code",
   "execution_count": 28,
   "metadata": {},
   "outputs": [
    {
     "data": {
      "text/html": [
       "<div>\n",
       "<style scoped>\n",
       "    .dataframe tbody tr th:only-of-type {\n",
       "        vertical-align: middle;\n",
       "    }\n",
       "\n",
       "    .dataframe tbody tr th {\n",
       "        vertical-align: top;\n",
       "    }\n",
       "\n",
       "    .dataframe thead th {\n",
       "        text-align: right;\n",
       "    }\n",
       "</style>\n",
       "<table border=\"1\" class=\"dataframe\">\n",
       "  <thead>\n",
       "    <tr style=\"text-align: right;\">\n",
       "      <th></th>\n",
       "      <th>speed</th>\n",
       "      <th>lng</th>\n",
       "      <th>new_lat</th>\n",
       "      <th>gDate</th>\n",
       "    </tr>\n",
       "  </thead>\n",
       "  <tbody>\n",
       "    <tr>\n",
       "      <th>0</th>\n",
       "      <td>NaN</td>\n",
       "      <td>NaN</td>\n",
       "      <td>NaN</td>\n",
       "      <td>None</td>\n",
       "    </tr>\n",
       "    <tr>\n",
       "      <th>3</th>\n",
       "      <td>NaN</td>\n",
       "      <td>NaN</td>\n",
       "      <td>NaN</td>\n",
       "      <td>None</td>\n",
       "    </tr>\n",
       "    <tr>\n",
       "      <th>4</th>\n",
       "      <td>999.0</td>\n",
       "      <td>999.000000</td>\n",
       "      <td>999.000000</td>\n",
       "      <td>999</td>\n",
       "    </tr>\n",
       "    <tr>\n",
       "      <th>5</th>\n",
       "      <td>NaN</td>\n",
       "      <td>116.425893</td>\n",
       "      <td>39.920667</td>\n",
       "      <td>2019/12/9 0:00</td>\n",
       "    </tr>\n",
       "    <tr>\n",
       "      <th>6</th>\n",
       "      <td>NaN</td>\n",
       "      <td>116.367585</td>\n",
       "      <td>39.931162</td>\n",
       "      <td>NaN</td>\n",
       "    </tr>\n",
       "  </tbody>\n",
       "</table>\n",
       "</div>"
      ],
      "text/plain": [
       "   speed         lng     new_lat           gDate\n",
       "0    NaN         NaN         NaN            None\n",
       "3    NaN         NaN         NaN            None\n",
       "4  999.0  999.000000  999.000000             999\n",
       "5    NaN  116.425893   39.920667  2019/12/9 0:00\n",
       "6    NaN  116.367585   39.931162             NaN"
      ]
     },
     "execution_count": 28,
     "metadata": {},
     "output_type": "execute_result"
    }
   ],
   "source": [
    "drop_b = drop_df.drop([1,2],axis=0)\n",
    "drop_b.head()"
   ]
  },
  {
   "cell_type": "markdown",
   "metadata": {},
   "source": [
    "# 合并 （concat纵向合并，join\\merge横向拼接）"
   ]
  },
  {
   "cell_type": "markdown",
   "metadata": {},
   "source": [
    "######  concat合并\n",
    "\"\"\"\n",
    "pd.concat(objs, axis=0, join='outer', join_axes=None, \n",
    "          ignore_index=False, keys=None, levels=None,\n",
    "          names=None, verify_integrity=False, copy=True)\n",
    "axis = 0 :表示按行合并\n",
    "axis=1：表示按列合并          \n",
    "concat 按行合并：join='outer'\\inner 没区别\n",
    "concat 按列合并 join='outer':显示全部索引行，没有以nan代替，相同字段不会被去重\n",
    "                 join='inner':显示公共索引行， 相同字段不会被去重 \n",
    "\n",
    "\"\"\""
   ]
  },
  {
   "cell_type": "code",
   "execution_count": 29,
   "metadata": {},
   "outputs": [],
   "source": [
    "######## 按行 合并"
   ]
  },
  {
   "cell_type": "code",
   "execution_count": 30,
   "metadata": {},
   "outputs": [
    {
     "name": "stdout",
     "output_type": "stream",
     "text": [
      "   speed         lng     new_lat gDate\n",
      "0    NaN         NaN         NaN  None\n",
      "1  999.0  999.000000  999.000000   999\n",
      "2    NaN  116.399417   39.947573   NaN\n",
      "   speed         lng     new_lat           gDate\n",
      "3    NaN         NaN         NaN            None\n",
      "4  999.0  999.000000  999.000000             999\n",
      "5    NaN  116.425893   39.920667  2019/12/9 0:00\n",
      "6    NaN  116.367585   39.931162             NaN\n",
      "****************************************************************************************************\n",
      "concat 纵向合并：\n",
      "   speed         lng     new_lat           gDate\n",
      "0    NaN         NaN         NaN            None\n",
      "1  999.0  999.000000  999.000000             999\n",
      "2    NaN  116.399417   39.947573             NaN\n",
      "3    NaN         NaN         NaN            None\n",
      "4  999.0  999.000000  999.000000             999\n",
      "5    NaN  116.425893   39.920667  2019/12/9 0:00\n",
      "6    NaN  116.367585   39.931162             NaN\n",
      "****************************************************************************************************\n",
      "concat 纵向合并：join='inner'\n",
      "   speed         lng     new_lat           gDate\n",
      "0    NaN         NaN         NaN            None\n",
      "1  999.0  999.000000  999.000000             999\n",
      "2    NaN  116.399417   39.947573             NaN\n",
      "3    NaN         NaN         NaN            None\n",
      "4  999.0  999.000000  999.000000             999\n",
      "5    NaN  116.425893   39.920667  2019/12/9 0:00\n",
      "6    NaN  116.367585   39.931162             NaN\n",
      "****************************************************************************************************\n"
     ]
    }
   ],
   "source": [
    "\n",
    "\n",
    "df_1= df_s[0:3]\n",
    "df_2= df_s[3:7]\n",
    "print(df_1)\n",
    "print(df_2)\n",
    "print(\"*\"*100)\n",
    "print(\"concat 纵向合并：\")\n",
    "df_con = pd.concat([df_1,df_2],axis=0)\n",
    "print(df_con)\n",
    "print(\"*\"*100)\n",
    "print(\"concat 纵向合并：join='inner'\")\n",
    "df_con = pd.concat([df_1,df_2],axis=0,join=\"inner\")\n",
    "print(df_con)\n",
    "print(\"*\"*100)\n",
    "\n"
   ]
  },
  {
   "cell_type": "markdown",
   "metadata": {},
   "source": [
    "### 按列合并 \\n\n",
    "\n",
    "#按行合并：实质就是 按索引合并,平时合并两个df,通常不是按索引，而是按共同的字段，这就是join缺陷\n",
    "#索引重置\n",
    "#df_2 = df_2.reset_index(drop=True)\n"
   ]
  },
  {
   "cell_type": "code",
   "execution_count": 31,
   "metadata": {},
   "outputs": [
    {
     "name": "stdout",
     "output_type": "stream",
     "text": [
      "concat 横向拼接：以索引为基准作为横向拼接\n",
      "   speed         lng     new_lat           gDate\n",
      "0    NaN         NaN         NaN            None\n",
      "1  999.0  999.000000  999.000000             999\n",
      "2    NaN  116.425893   39.920667  2019/12/9 0:00\n",
      "3    NaN  116.367585   39.931162             NaN\n"
     ]
    },
    {
     "data": {
      "text/html": [
       "<div>\n",
       "<style scoped>\n",
       "    .dataframe tbody tr th:only-of-type {\n",
       "        vertical-align: middle;\n",
       "    }\n",
       "\n",
       "    .dataframe tbody tr th {\n",
       "        vertical-align: top;\n",
       "    }\n",
       "\n",
       "    .dataframe thead th {\n",
       "        text-align: right;\n",
       "    }\n",
       "</style>\n",
       "<table border=\"1\" class=\"dataframe\">\n",
       "  <thead>\n",
       "    <tr style=\"text-align: right;\">\n",
       "      <th></th>\n",
       "      <th>speed</th>\n",
       "      <th>lng</th>\n",
       "      <th>new_lat</th>\n",
       "      <th>gDate</th>\n",
       "      <th>speed</th>\n",
       "      <th>lng</th>\n",
       "      <th>new_lat</th>\n",
       "      <th>gDate</th>\n",
       "    </tr>\n",
       "  </thead>\n",
       "  <tbody>\n",
       "    <tr>\n",
       "      <th>0</th>\n",
       "      <td>NaN</td>\n",
       "      <td>NaN</td>\n",
       "      <td>NaN</td>\n",
       "      <td>None</td>\n",
       "      <td>NaN</td>\n",
       "      <td>NaN</td>\n",
       "      <td>NaN</td>\n",
       "      <td>None</td>\n",
       "    </tr>\n",
       "    <tr>\n",
       "      <th>1</th>\n",
       "      <td>999.0</td>\n",
       "      <td>999.000000</td>\n",
       "      <td>999.000000</td>\n",
       "      <td>999</td>\n",
       "      <td>999.0</td>\n",
       "      <td>999.000000</td>\n",
       "      <td>999.000000</td>\n",
       "      <td>999</td>\n",
       "    </tr>\n",
       "    <tr>\n",
       "      <th>2</th>\n",
       "      <td>NaN</td>\n",
       "      <td>116.399417</td>\n",
       "      <td>39.947573</td>\n",
       "      <td>NaN</td>\n",
       "      <td>NaN</td>\n",
       "      <td>116.425893</td>\n",
       "      <td>39.920667</td>\n",
       "      <td>2019/12/9 0:00</td>\n",
       "    </tr>\n",
       "  </tbody>\n",
       "</table>\n",
       "</div>"
      ],
      "text/plain": [
       "   speed         lng     new_lat gDate  speed         lng     new_lat  \\\n",
       "0    NaN         NaN         NaN  None    NaN         NaN         NaN   \n",
       "1  999.0  999.000000  999.000000   999  999.0  999.000000  999.000000   \n",
       "2    NaN  116.399417   39.947573   NaN    NaN  116.425893   39.920667   \n",
       "\n",
       "            gDate  \n",
       "0            None  \n",
       "1             999  \n",
       "2  2019/12/9 0:00  "
      ]
     },
     "execution_count": 31,
     "metadata": {},
     "output_type": "execute_result"
    }
   ],
   "source": [
    "print(\"concat 横向拼接：以索引为基准作为横向拼接\")\n",
    "\n",
    "df_1= df_s[0:3]\n",
    "\n",
    "df_2= df_s[3:7]\n",
    "df_2 = df_2.reset_index(drop=True)\n",
    "print(df_2)\n",
    "df_concat_join=pd.concat([df_1,df_2],join=\"inner\",axis=1)\n",
    "df_concat_join"
   ]
  },
  {
   "cell_type": "markdown",
   "metadata": {},
   "source": [
    "# Meger 按行合并\n",
    "#作为连接的键最好不好重复\n",
    "#有异常值 NaN,每一个NaN都是不相等的"
   ]
  },
  {
   "cell_type": "code",
   "execution_count": 32,
   "metadata": {},
   "outputs": [],
   "source": [
    "#pd.merge(left, right, how='inner', on=None, left_on=None, right_on=None,\n",
    "#         left_index=False, right_index=False, sort=True,\n",
    "#         suffixes=('_x', '_y'), copy=True, indicator=False,\n",
    "#        validate=None)\n",
    "#"
   ]
  },
  {
   "cell_type": "code",
   "execution_count": 33,
   "metadata": {},
   "outputs": [
    {
     "name": "stdout",
     "output_type": "stream",
     "text": [
      "   speed         lng     new_lat gDate\n",
      "0    NaN         NaN         NaN  None\n",
      "1  999.0  999.000000  999.000000   999\n",
      "2    NaN  116.399417   39.947573   NaN\n",
      "   speed         lng     new_lat           gDate\n",
      "0    NaN         NaN         NaN            None\n",
      "1  999.0  999.000000  999.000000             999\n",
      "2    NaN  116.425893   39.920667  2019/12/9 0:00\n",
      "3    NaN  116.367585   39.931162             NaN\n",
      "***********两种写法***********************\n",
      " df_1.merge(df_2,\n",
      "pd.merge(df_1,df_2,\n"
     ]
    },
    {
     "data": {
      "text/html": [
       "<div>\n",
       "<style scoped>\n",
       "    .dataframe tbody tr th:only-of-type {\n",
       "        vertical-align: middle;\n",
       "    }\n",
       "\n",
       "    .dataframe tbody tr th {\n",
       "        vertical-align: top;\n",
       "    }\n",
       "\n",
       "    .dataframe thead th {\n",
       "        text-align: right;\n",
       "    }\n",
       "</style>\n",
       "<table border=\"1\" class=\"dataframe\">\n",
       "  <thead>\n",
       "    <tr style=\"text-align: right;\">\n",
       "      <th></th>\n",
       "      <th>speed</th>\n",
       "      <th>lng_x</th>\n",
       "      <th>new_lat_x</th>\n",
       "      <th>gDate_x</th>\n",
       "      <th>lng_y</th>\n",
       "      <th>new_lat_y</th>\n",
       "      <th>gDate_y</th>\n",
       "    </tr>\n",
       "  </thead>\n",
       "  <tbody>\n",
       "    <tr>\n",
       "      <th>0</th>\n",
       "      <td>NaN</td>\n",
       "      <td>NaN</td>\n",
       "      <td>NaN</td>\n",
       "      <td>None</td>\n",
       "      <td>NaN</td>\n",
       "      <td>NaN</td>\n",
       "      <td>None</td>\n",
       "    </tr>\n",
       "    <tr>\n",
       "      <th>1</th>\n",
       "      <td>NaN</td>\n",
       "      <td>NaN</td>\n",
       "      <td>NaN</td>\n",
       "      <td>None</td>\n",
       "      <td>116.425893</td>\n",
       "      <td>39.920667</td>\n",
       "      <td>2019/12/9 0:00</td>\n",
       "    </tr>\n",
       "    <tr>\n",
       "      <th>2</th>\n",
       "      <td>NaN</td>\n",
       "      <td>NaN</td>\n",
       "      <td>NaN</td>\n",
       "      <td>None</td>\n",
       "      <td>116.367585</td>\n",
       "      <td>39.931162</td>\n",
       "      <td>NaN</td>\n",
       "    </tr>\n",
       "    <tr>\n",
       "      <th>3</th>\n",
       "      <td>999.0</td>\n",
       "      <td>999.000000</td>\n",
       "      <td>999.000000</td>\n",
       "      <td>999</td>\n",
       "      <td>999.000000</td>\n",
       "      <td>999.000000</td>\n",
       "      <td>999</td>\n",
       "    </tr>\n",
       "    <tr>\n",
       "      <th>4</th>\n",
       "      <td>NaN</td>\n",
       "      <td>116.399417</td>\n",
       "      <td>39.947573</td>\n",
       "      <td>NaN</td>\n",
       "      <td>NaN</td>\n",
       "      <td>NaN</td>\n",
       "      <td>None</td>\n",
       "    </tr>\n",
       "    <tr>\n",
       "      <th>5</th>\n",
       "      <td>NaN</td>\n",
       "      <td>116.399417</td>\n",
       "      <td>39.947573</td>\n",
       "      <td>NaN</td>\n",
       "      <td>116.425893</td>\n",
       "      <td>39.920667</td>\n",
       "      <td>2019/12/9 0:00</td>\n",
       "    </tr>\n",
       "    <tr>\n",
       "      <th>6</th>\n",
       "      <td>NaN</td>\n",
       "      <td>116.399417</td>\n",
       "      <td>39.947573</td>\n",
       "      <td>NaN</td>\n",
       "      <td>116.367585</td>\n",
       "      <td>39.931162</td>\n",
       "      <td>NaN</td>\n",
       "    </tr>\n",
       "  </tbody>\n",
       "</table>\n",
       "</div>"
      ],
      "text/plain": [
       "   speed       lng_x   new_lat_x gDate_x       lng_y   new_lat_y  \\\n",
       "0    NaN         NaN         NaN    None         NaN         NaN   \n",
       "1    NaN         NaN         NaN    None  116.425893   39.920667   \n",
       "2    NaN         NaN         NaN    None  116.367585   39.931162   \n",
       "3  999.0  999.000000  999.000000     999  999.000000  999.000000   \n",
       "4    NaN  116.399417   39.947573     NaN         NaN         NaN   \n",
       "5    NaN  116.399417   39.947573     NaN  116.425893   39.920667   \n",
       "6    NaN  116.399417   39.947573     NaN  116.367585   39.931162   \n",
       "\n",
       "          gDate_y  \n",
       "0            None  \n",
       "1  2019/12/9 0:00  \n",
       "2             NaN  \n",
       "3             999  \n",
       "4            None  \n",
       "5  2019/12/9 0:00  \n",
       "6             NaN  "
      ]
     },
     "execution_count": 33,
     "metadata": {},
     "output_type": "execute_result"
    }
   ],
   "source": [
    "df_1= df_s[0:3]\n",
    "df_2= df_s[3:7]\n",
    "df_2=df_2.reset_index(drop=True)\n",
    "print(df_1)\n",
    "print(df_2)\n",
    "print(\"***********两种写法***********************\")\n",
    "print(\"\"\" df_1.merge(df_2,\n",
    "pd.merge(df_1,df_2,\"\"\")\n",
    "df_merge = df_1.merge(df_2,how=\"left\",on=\"speed\")#how=\"left\",on=\"speed\" 可以合并写  left_on\n",
    "df_merge2 = pd.merge(df_1,df_2,how=\"left\",on=\"speed\")#how=\"left\",on=\"speed\" 可以合并写  left_on\n",
    "df_merge.head(10)"
   ]
  },
  {
   "cell_type": "code",
   "execution_count": 34,
   "metadata": {},
   "outputs": [
    {
     "name": "stdout",
     "output_type": "stream",
     "text": [
      "   speed         lng name\n",
      "0   22.0         NaN   张三\n",
      "1  999.0  999.000000   李四\n",
      "2   22.0  116.399417   王五\n",
      "3   22.0         NaN   赵二\n",
      "   speed     new_lat name\n",
      "0   22.0         NaN   张三\n",
      "1  999.0  999.000000   李四\n",
      "2   22.0   39.920667   王五\n",
      "3   22.0   39.931162   赵二\n",
      "4   22.0         NaN    哇\n"
     ]
    },
    {
     "data": {
      "text/html": [
       "<div>\n",
       "<style scoped>\n",
       "    .dataframe tbody tr th:only-of-type {\n",
       "        vertical-align: middle;\n",
       "    }\n",
       "\n",
       "    .dataframe tbody tr th {\n",
       "        vertical-align: top;\n",
       "    }\n",
       "\n",
       "    .dataframe thead th {\n",
       "        text-align: right;\n",
       "    }\n",
       "</style>\n",
       "<table border=\"1\" class=\"dataframe\">\n",
       "  <thead>\n",
       "    <tr style=\"text-align: right;\">\n",
       "      <th></th>\n",
       "      <th>speed_x</th>\n",
       "      <th>lng</th>\n",
       "      <th>name</th>\n",
       "      <th>speed_y</th>\n",
       "      <th>new_lat</th>\n",
       "    </tr>\n",
       "  </thead>\n",
       "  <tbody>\n",
       "    <tr>\n",
       "      <th>0</th>\n",
       "      <td>22.0</td>\n",
       "      <td>NaN</td>\n",
       "      <td>张三</td>\n",
       "      <td>22.0</td>\n",
       "      <td>NaN</td>\n",
       "    </tr>\n",
       "    <tr>\n",
       "      <th>1</th>\n",
       "      <td>999.0</td>\n",
       "      <td>999.000000</td>\n",
       "      <td>李四</td>\n",
       "      <td>999.0</td>\n",
       "      <td>999.000000</td>\n",
       "    </tr>\n",
       "    <tr>\n",
       "      <th>2</th>\n",
       "      <td>22.0</td>\n",
       "      <td>116.399417</td>\n",
       "      <td>王五</td>\n",
       "      <td>22.0</td>\n",
       "      <td>39.920667</td>\n",
       "    </tr>\n",
       "    <tr>\n",
       "      <th>3</th>\n",
       "      <td>22.0</td>\n",
       "      <td>NaN</td>\n",
       "      <td>赵二</td>\n",
       "      <td>22.0</td>\n",
       "      <td>39.931162</td>\n",
       "    </tr>\n",
       "  </tbody>\n",
       "</table>\n",
       "</div>"
      ],
      "text/plain": [
       "   speed_x         lng name  speed_y     new_lat\n",
       "0     22.0         NaN   张三     22.0         NaN\n",
       "1    999.0  999.000000   李四    999.0  999.000000\n",
       "2     22.0  116.399417   王五     22.0   39.920667\n",
       "3     22.0         NaN   赵二     22.0   39.931162"
      ]
     },
     "execution_count": 34,
     "metadata": {},
     "output_type": "execute_result"
    }
   ],
   "source": [
    "df_1= df_s.loc[0:3,[\"speed\",\"lng\"]].copy()\n",
    "df_1[\"name\"]=[\"张三\",\"李四\",\"王五\",\"赵二\"]\n",
    "df_2= df_s.loc[3:7,[\"speed\",\"new_lat\"]].copy()\n",
    "df_2[\"name\"]=np.array([\"张三\",\"李四\",\"王五\",\"赵二\",\"哇\",])\n",
    "df_1[\"speed\"]=df_1[\"speed\"].fillna(22)\n",
    "df_2[\"speed\"]=df_2[\"speed\"].fillna(22)\n",
    "df_2=df_2.reset_index(drop=True)\n",
    "print(df_1)\n",
    "print(df_2)\n",
    "df_merge = pd.merge(df_1,df_2,how=\"inner\",on=\"name\")\n",
    "df_merge.head(20)"
   ]
  },
  {
   "cell_type": "markdown",
   "metadata": {},
   "source": [
    "# df.groupby ()分组统计"
   ]
  },
  {
   "cell_type": "code",
   "execution_count": 35,
   "metadata": {},
   "outputs": [],
   "source": [
    "df_s[\"speed\"]=df_s[\"speed\"].fillna(22)"
   ]
  },
  {
   "cell_type": "markdown",
   "metadata": {},
   "source": [
    "#### 计算所有字段的均值,as_index 默认True，会把参考字段作为索引"
   ]
  },
  {
   "cell_type": "code",
   "execution_count": 36,
   "metadata": {},
   "outputs": [
    {
     "data": {
      "text/html": [
       "<div>\n",
       "<style scoped>\n",
       "    .dataframe tbody tr th:only-of-type {\n",
       "        vertical-align: middle;\n",
       "    }\n",
       "\n",
       "    .dataframe tbody tr th {\n",
       "        vertical-align: top;\n",
       "    }\n",
       "\n",
       "    .dataframe thead th {\n",
       "        text-align: right;\n",
       "    }\n",
       "</style>\n",
       "<table border=\"1\" class=\"dataframe\">\n",
       "  <thead>\n",
       "    <tr style=\"text-align: right;\">\n",
       "      <th></th>\n",
       "      <th>speed</th>\n",
       "      <th>lng</th>\n",
       "      <th>new_lat</th>\n",
       "    </tr>\n",
       "  </thead>\n",
       "  <tbody>\n",
       "    <tr>\n",
       "      <th>0</th>\n",
       "      <td>22.0</td>\n",
       "      <td>116.40363</td>\n",
       "      <td>39.922981</td>\n",
       "    </tr>\n",
       "    <tr>\n",
       "      <th>1</th>\n",
       "      <td>999.0</td>\n",
       "      <td>999.00000</td>\n",
       "      <td>999.000000</td>\n",
       "    </tr>\n",
       "  </tbody>\n",
       "</table>\n",
       "</div>"
      ],
      "text/plain": [
       "   speed        lng     new_lat\n",
       "0   22.0  116.40363   39.922981\n",
       "1  999.0  999.00000  999.000000"
      ]
     },
     "execution_count": 36,
     "metadata": {},
     "output_type": "execute_result"
    }
   ],
   "source": [
    "df_g = df_s.groupby(by='speed',as_index=False).mean()#均值计算 不统计 NaN个数\n",
    "df_g"
   ]
  },
  {
   "cell_type": "markdown",
   "metadata": {},
   "source": [
    "##### 对指定字段作 均值统计"
   ]
  },
  {
   "cell_type": "code",
   "execution_count": 37,
   "metadata": {},
   "outputs": [
    {
     "data": {
      "text/html": [
       "<div>\n",
       "<style scoped>\n",
       "    .dataframe tbody tr th:only-of-type {\n",
       "        vertical-align: middle;\n",
       "    }\n",
       "\n",
       "    .dataframe tbody tr th {\n",
       "        vertical-align: top;\n",
       "    }\n",
       "\n",
       "    .dataframe thead th {\n",
       "        text-align: right;\n",
       "    }\n",
       "</style>\n",
       "<table border=\"1\" class=\"dataframe\">\n",
       "  <thead>\n",
       "    <tr style=\"text-align: right;\">\n",
       "      <th></th>\n",
       "      <th>speed</th>\n",
       "      <th>lng</th>\n",
       "      <th>new_lat</th>\n",
       "    </tr>\n",
       "  </thead>\n",
       "  <tbody>\n",
       "    <tr>\n",
       "      <th>0</th>\n",
       "      <td>22.0</td>\n",
       "      <td>116.40363</td>\n",
       "      <td>39.922981</td>\n",
       "    </tr>\n",
       "    <tr>\n",
       "      <th>1</th>\n",
       "      <td>999.0</td>\n",
       "      <td>999.00000</td>\n",
       "      <td>999.000000</td>\n",
       "    </tr>\n",
       "  </tbody>\n",
       "</table>\n",
       "</div>"
      ],
      "text/plain": [
       "   speed        lng     new_lat\n",
       "0   22.0  116.40363   39.922981\n",
       "1  999.0  999.00000  999.000000"
      ]
     },
     "execution_count": 37,
     "metadata": {},
     "output_type": "execute_result"
    }
   ],
   "source": [
    "\n",
    "df_g = df_s.groupby(by='speed',as_index=False)[\"lng\",\"new_lat\"].mean()\n",
    "df_g"
   ]
  },
  {
   "cell_type": "markdown",
   "metadata": {},
   "source": [
    "##### 对不同字段 用不同的  统计函数"
   ]
  },
  {
   "cell_type": "code",
   "execution_count": 38,
   "metadata": {},
   "outputs": [
    {
     "data": {
      "text/html": [
       "<div>\n",
       "<style scoped>\n",
       "    .dataframe tbody tr th:only-of-type {\n",
       "        vertical-align: middle;\n",
       "    }\n",
       "\n",
       "    .dataframe tbody tr th {\n",
       "        vertical-align: top;\n",
       "    }\n",
       "\n",
       "    .dataframe thead tr th {\n",
       "        text-align: left;\n",
       "    }\n",
       "</style>\n",
       "<table border=\"1\" class=\"dataframe\">\n",
       "  <thead>\n",
       "    <tr>\n",
       "      <th></th>\n",
       "      <th>speed</th>\n",
       "      <th colspan=\"2\" halign=\"left\">lng</th>\n",
       "      <th>new_lat</th>\n",
       "    </tr>\n",
       "    <tr>\n",
       "      <th></th>\n",
       "      <th></th>\n",
       "      <th>mean</th>\n",
       "      <th>sum</th>\n",
       "      <th>sum</th>\n",
       "    </tr>\n",
       "  </thead>\n",
       "  <tbody>\n",
       "    <tr>\n",
       "      <th>0</th>\n",
       "      <td>22.0</td>\n",
       "      <td>116.40363</td>\n",
       "      <td>465.61452</td>\n",
       "      <td>159.691922</td>\n",
       "    </tr>\n",
       "    <tr>\n",
       "      <th>1</th>\n",
       "      <td>999.0</td>\n",
       "      <td>999.00000</td>\n",
       "      <td>3996.00000</td>\n",
       "      <td>3996.000000</td>\n",
       "    </tr>\n",
       "  </tbody>\n",
       "</table>\n",
       "</div>"
      ],
      "text/plain": [
       "   speed        lng                  new_lat\n",
       "               mean         sum          sum\n",
       "0   22.0  116.40363   465.61452   159.691922\n",
       "1  999.0  999.00000  3996.00000  3996.000000"
      ]
     },
     "execution_count": 38,
     "metadata": {},
     "output_type": "execute_result"
    }
   ],
   "source": [
    "\n",
    "df_g = df_s.groupby(by='speed',as_index=False).agg({\"lng\":[np.mean,np.sum],\n",
    "                                                    \n",
    "                                                   \"new_lat\":np.sum})\n",
    "df_g"
   ]
  },
  {
   "cell_type": "code",
   "execution_count": 39,
   "metadata": {},
   "outputs": [
    {
     "data": {
      "text/html": [
       "<div>\n",
       "<style scoped>\n",
       "    .dataframe tbody tr th:only-of-type {\n",
       "        vertical-align: middle;\n",
       "    }\n",
       "\n",
       "    .dataframe tbody tr th {\n",
       "        vertical-align: top;\n",
       "    }\n",
       "\n",
       "    .dataframe thead th {\n",
       "        text-align: right;\n",
       "    }\n",
       "</style>\n",
       "<table border=\"1\" class=\"dataframe\">\n",
       "  <thead>\n",
       "    <tr style=\"text-align: right;\">\n",
       "      <th></th>\n",
       "      <th>1</th>\n",
       "      <th>2</th>\n",
       "      <th>3</th>\n",
       "      <th>4</th>\n",
       "    </tr>\n",
       "  </thead>\n",
       "  <tbody>\n",
       "    <tr>\n",
       "      <th>0</th>\n",
       "      <td>22.0</td>\n",
       "      <td>116.40363</td>\n",
       "      <td>465.61452</td>\n",
       "      <td>159.691922</td>\n",
       "    </tr>\n",
       "    <tr>\n",
       "      <th>1</th>\n",
       "      <td>999.0</td>\n",
       "      <td>999.00000</td>\n",
       "      <td>3996.00000</td>\n",
       "      <td>3996.000000</td>\n",
       "    </tr>\n",
       "  </tbody>\n",
       "</table>\n",
       "</div>"
      ],
      "text/plain": [
       "       1          2           3            4\n",
       "0   22.0  116.40363   465.61452   159.691922\n",
       "1  999.0  999.00000  3996.00000  3996.000000"
      ]
     },
     "execution_count": 39,
     "metadata": {},
     "output_type": "execute_result"
    }
   ],
   "source": [
    "#修改字段\n",
    "df_g.columns=[\"1\",\"2\",\"3\",\"4\"]\n",
    "df_g"
   ]
  },
  {
   "cell_type": "markdown",
   "metadata": {},
   "source": [
    "##### 对不同字段 用不同的求和函数  , 对不统计的字段保留唯一值、或者最后\\首要值"
   ]
  },
  {
   "cell_type": "code",
   "execution_count": 40,
   "metadata": {},
   "outputs": [
    {
     "data": {
      "text/html": [
       "<div>\n",
       "<style scoped>\n",
       "    .dataframe tbody tr th:only-of-type {\n",
       "        vertical-align: middle;\n",
       "    }\n",
       "\n",
       "    .dataframe tbody tr th {\n",
       "        vertical-align: top;\n",
       "    }\n",
       "\n",
       "    .dataframe thead tr th {\n",
       "        text-align: left;\n",
       "    }\n",
       "</style>\n",
       "<table border=\"1\" class=\"dataframe\">\n",
       "  <thead>\n",
       "    <tr>\n",
       "      <th></th>\n",
       "      <th>speed</th>\n",
       "      <th colspan=\"2\" halign=\"left\">lng</th>\n",
       "      <th>new_lat</th>\n",
       "      <th>gDate</th>\n",
       "    </tr>\n",
       "    <tr>\n",
       "      <th></th>\n",
       "      <th></th>\n",
       "      <th>mean</th>\n",
       "      <th>sum</th>\n",
       "      <th>sum</th>\n",
       "      <th>last</th>\n",
       "    </tr>\n",
       "  </thead>\n",
       "  <tbody>\n",
       "    <tr>\n",
       "      <th>0</th>\n",
       "      <td>22.0</td>\n",
       "      <td>116.40363</td>\n",
       "      <td>465.61452</td>\n",
       "      <td>159.691922</td>\n",
       "      <td>NaN</td>\n",
       "    </tr>\n",
       "    <tr>\n",
       "      <th>1</th>\n",
       "      <td>999.0</td>\n",
       "      <td>999.00000</td>\n",
       "      <td>3996.00000</td>\n",
       "      <td>3996.000000</td>\n",
       "      <td>999.0</td>\n",
       "    </tr>\n",
       "  </tbody>\n",
       "</table>\n",
       "</div>"
      ],
      "text/plain": [
       "   speed        lng                  new_lat  gDate\n",
       "               mean         sum          sum   last\n",
       "0   22.0  116.40363   465.61452   159.691922    NaN\n",
       "1  999.0  999.00000  3996.00000  3996.000000  999.0"
      ]
     },
     "execution_count": 40,
     "metadata": {},
     "output_type": "execute_result"
    }
   ],
   "source": [
    "df_g = df_s.groupby(by='speed',as_index=False).agg({\"lng\":[np.mean,np.sum],\n",
    "                                                    \n",
    "                                                   \"new_lat\":np.sum,\n",
    "                                                   \"gDate\": 'last'\n",
    "                                                   },#\"gDate\": pd.Series.unique\n",
    "                                                  )\n",
    "df_g"
   ]
  },
  {
   "cell_type": "markdown",
   "metadata": {},
   "source": [
    "# df.apply 使用 主要用于对某些字段值作复杂逻辑处理"
   ]
  },
  {
   "cell_type": "code",
   "execution_count": 48,
   "metadata": {},
   "outputs": [
    {
     "name": "stdout",
     "output_type": "stream",
     "text": [
      "<class 'numpy.float64'>\n",
      "nan\n",
      "<class 'float'>\n"
     ]
    },
    {
     "data": {
      "text/html": [
       "<div>\n",
       "<style scoped>\n",
       "    .dataframe tbody tr th:only-of-type {\n",
       "        vertical-align: middle;\n",
       "    }\n",
       "\n",
       "    .dataframe tbody tr th {\n",
       "        vertical-align: top;\n",
       "    }\n",
       "\n",
       "    .dataframe thead th {\n",
       "        text-align: right;\n",
       "    }\n",
       "</style>\n",
       "<table border=\"1\" class=\"dataframe\">\n",
       "  <thead>\n",
       "    <tr style=\"text-align: right;\">\n",
       "      <th></th>\n",
       "      <th>speed</th>\n",
       "      <th>new_lat</th>\n",
       "      <th>gDate</th>\n",
       "    </tr>\n",
       "  </thead>\n",
       "  <tbody>\n",
       "    <tr>\n",
       "      <th>0</th>\n",
       "      <td>22.0</td>\n",
       "      <td>NaN</td>\n",
       "      <td>None</td>\n",
       "    </tr>\n",
       "    <tr>\n",
       "      <th>1</th>\n",
       "      <td>999.0</td>\n",
       "      <td>999.000000</td>\n",
       "      <td>999</td>\n",
       "    </tr>\n",
       "    <tr>\n",
       "      <th>2</th>\n",
       "      <td>22.0</td>\n",
       "      <td>39.947573</td>\n",
       "      <td>NaN</td>\n",
       "    </tr>\n",
       "    <tr>\n",
       "      <th>3</th>\n",
       "      <td>22.0</td>\n",
       "      <td>NaN</td>\n",
       "      <td>None</td>\n",
       "    </tr>\n",
       "    <tr>\n",
       "      <th>4</th>\n",
       "      <td>999.0</td>\n",
       "      <td>999.000000</td>\n",
       "      <td>999</td>\n",
       "    </tr>\n",
       "    <tr>\n",
       "      <th>5</th>\n",
       "      <td>22.0</td>\n",
       "      <td>39.920667</td>\n",
       "      <td>2019/12/9 0:00</td>\n",
       "    </tr>\n",
       "    <tr>\n",
       "      <th>6</th>\n",
       "      <td>22.0</td>\n",
       "      <td>39.931162</td>\n",
       "      <td>NaN</td>\n",
       "    </tr>\n",
       "    <tr>\n",
       "      <th>7</th>\n",
       "      <td>22.0</td>\n",
       "      <td>NaN</td>\n",
       "      <td>None</td>\n",
       "    </tr>\n",
       "    <tr>\n",
       "      <th>8</th>\n",
       "      <td>22.0</td>\n",
       "      <td>39.892520</td>\n",
       "      <td>NaN</td>\n",
       "    </tr>\n",
       "    <tr>\n",
       "      <th>9</th>\n",
       "      <td>999.0</td>\n",
       "      <td>999.000000</td>\n",
       "      <td>999</td>\n",
       "    </tr>\n",
       "    <tr>\n",
       "      <th>10</th>\n",
       "      <td>999.0</td>\n",
       "      <td>999.000000</td>\n",
       "      <td>999</td>\n",
       "    </tr>\n",
       "  </tbody>\n",
       "</table>\n",
       "</div>"
      ],
      "text/plain": [
       "    speed     new_lat           gDate\n",
       "0    22.0         NaN            None\n",
       "1   999.0  999.000000             999\n",
       "2    22.0   39.947573             NaN\n",
       "3    22.0         NaN            None\n",
       "4   999.0  999.000000             999\n",
       "5    22.0   39.920667  2019/12/9 0:00\n",
       "6    22.0   39.931162             NaN\n",
       "7    22.0         NaN            None\n",
       "8    22.0   39.892520             NaN\n",
       "9   999.0  999.000000             999\n",
       "10  999.0  999.000000             999"
      ]
     },
     "execution_count": 48,
     "metadata": {},
     "output_type": "execute_result"
    }
   ],
   "source": [
    "import types\n",
    "df_s2 = df_s.copy()\n",
    "print(type(df_s2[\"new_lat\"][0]))\n",
    "print(df_s2[\"new_lat\"][0])\n",
    "print(type(np.nan))\n",
    "def appro(x):\n",
    "    if x==np.nan:\n",
    "        x=100\n",
    "     \n",
    "    return x\n",
    "        \n",
    "df_s2[\"new_lat\"]=df_s2[\"new_lat\"].apply(lambda x:appro(x))\n",
    "df_s2 = df_s2.drop([\"lng\"],axis=1)\n",
    "# df_s2 = df_s2.dropna()\n",
    "df_s2"
   ]
  },
  {
   "cell_type": "code",
   "execution_count": null,
   "metadata": {},
   "outputs": [],
   "source": []
  },
  {
   "cell_type": "code",
   "execution_count": null,
   "metadata": {},
   "outputs": [],
   "source": []
  }
 ],
 "metadata": {
  "kernelspec": {
   "display_name": "Python 3",
   "language": "python",
   "name": "python3"
  },
  "language_info": {
   "codemirror_mode": {
    "name": "ipython",
    "version": 3
   },
   "file_extension": ".py",
   "mimetype": "text/x-python",
   "name": "python",
   "nbconvert_exporter": "python",
   "pygments_lexer": "ipython3",
   "version": "3.6.5"
  }
 },
 "nbformat": 4,
 "nbformat_minor": 4
}
