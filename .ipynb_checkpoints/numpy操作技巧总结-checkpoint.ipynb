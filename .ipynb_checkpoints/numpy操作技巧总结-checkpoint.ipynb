{
 "cells": [
  {
   "cell_type": "code",
   "execution_count": 1,
   "metadata": {},
   "outputs": [],
   "source": [
    "import numpy as np"
   ]
  },
  {
   "cell_type": "markdown",
   "metadata": {},
   "source": [
    "# numpy 基本属性"
   ]
  },
  {
   "cell_type": "code",
   "execution_count": 2,
   "metadata": {},
   "outputs": [
    {
     "data": {
      "text/plain": [
       "array([[ 0,  1,  2,  3,  4],\n",
       "       [ 5,  6,  7,  8,  9],\n",
       "       [10, 11, 12, 13, 14],\n",
       "       [15, 16, 17, 18, 19],\n",
       "       [20, 21, 22, 23, 24]])"
      ]
     },
     "execution_count": 2,
     "metadata": {},
     "output_type": "execute_result"
    }
   ],
   "source": [
    "arr = np.arange(25).reshape(5,5)\n",
    "arr"
   ]
  },
  {
   "cell_type": "code",
   "execution_count": 3,
   "metadata": {},
   "outputs": [
    {
     "data": {
      "text/plain": [
       "(5, 5)"
      ]
     },
     "execution_count": 3,
     "metadata": {},
     "output_type": "execute_result"
    }
   ],
   "source": [
    "arr.shape"
   ]
  },
  {
   "cell_type": "code",
   "execution_count": 4,
   "metadata": {},
   "outputs": [
    {
     "data": {
      "text/plain": [
       "25"
      ]
     },
     "execution_count": 4,
     "metadata": {},
     "output_type": "execute_result"
    }
   ],
   "source": [
    "arr.size"
   ]
  },
  {
   "cell_type": "code",
   "execution_count": 5,
   "metadata": {},
   "outputs": [
    {
     "data": {
      "text/plain": [
       "dtype('int32')"
      ]
     },
     "execution_count": 5,
     "metadata": {},
     "output_type": "execute_result"
    }
   ],
   "source": [
    "arr.dtype"
   ]
  },
  {
   "cell_type": "markdown",
   "metadata": {},
   "source": [
    "# numpy 创建数组"
   ]
  },
  {
   "cell_type": "markdown",
   "metadata": {},
   "source": [
    "## 随机数创建"
   ]
  },
  {
   "cell_type": "markdown",
   "metadata": {},
   "source": [
    "#### random.rand() \n",
    "#生成的是0，1均值分布的随机数\n",
    "#random.randn() 与rand用法一致，区别:生成的是标准正太分布的随机数"
   ]
  },
  {
   "cell_type": "code",
   "execution_count": 6,
   "metadata": {},
   "outputs": [
    {
     "data": {
      "text/plain": [
       "0.5488135039273248"
      ]
     },
     "execution_count": 6,
     "metadata": {},
     "output_type": "execute_result"
    }
   ],
   "source": [
    "np.random.seed(0)\n",
    "rand_1 = np.random.rand()\n",
    "rand_1"
   ]
  },
  {
   "cell_type": "code",
   "execution_count": 7,
   "metadata": {},
   "outputs": [
    {
     "data": {
      "text/plain": [
       "array([0.71518937, 0.60276338, 0.54488318, 0.4236548 ])"
      ]
     },
     "execution_count": 7,
     "metadata": {},
     "output_type": "execute_result"
    }
   ],
   "source": [
    "rand_2 = np.random.rand(4)\n",
    "rand_2"
   ]
  },
  {
   "cell_type": "code",
   "execution_count": 8,
   "metadata": {},
   "outputs": [
    {
     "data": {
      "text/plain": [
       "array([[0.64589411, 0.43758721, 0.891773  , 0.96366276],\n",
       "       [0.38344152, 0.79172504, 0.52889492, 0.56804456],\n",
       "       [0.92559664, 0.07103606, 0.0871293 , 0.0202184 ]])"
      ]
     },
     "execution_count": 8,
     "metadata": {},
     "output_type": "execute_result"
    }
   ],
   "source": [
    "rand_3 = np.random.rand(3,4)\n",
    "rand_3"
   ]
  },
  {
   "cell_type": "code",
   "execution_count": 9,
   "metadata": {},
   "outputs": [
    {
     "data": {
      "text/plain": [
       "array([[[0.83261985, 0.77815675, 0.87001215, 0.97861834]],\n",
       "\n",
       "       [[0.79915856, 0.46147936, 0.78052918, 0.11827443]],\n",
       "\n",
       "       [[0.63992102, 0.14335329, 0.94466892, 0.52184832]]])"
      ]
     },
     "execution_count": 9,
     "metadata": {},
     "output_type": "execute_result"
    }
   ],
   "source": [
    "rand_3 = np.random.rand(3,1,4)\n",
    "rand_3"
   ]
  },
  {
   "cell_type": "markdown",
   "metadata": {},
   "source": [
    "#### random.random_sample\n",
    "#生成的0，1随机数\n",
    "#random.random() 用法一致，生成的数也是一致\n",
    "#standard_normal(),用法一致，生成的是标准的正太分布"
   ]
  },
  {
   "cell_type": "code",
   "execution_count": 10,
   "metadata": {},
   "outputs": [
    {
     "data": {
      "text/plain": [
       "0.4146619399905236"
      ]
     },
     "execution_count": 10,
     "metadata": {},
     "output_type": "execute_result"
    }
   ],
   "source": [
    "rs_1 = np.random.random_sample()\n",
    "rs_1"
   ]
  },
  {
   "cell_type": "code",
   "execution_count": 11,
   "metadata": {},
   "outputs": [
    {
     "data": {
      "text/plain": [
       "array([0.26455561, 0.77423369, 0.45615033, 0.56843395])"
      ]
     },
     "execution_count": 11,
     "metadata": {},
     "output_type": "execute_result"
    }
   ],
   "source": [
    "rs_2 = np.random.random_sample(4)\n",
    "rs_2"
   ]
  },
  {
   "cell_type": "code",
   "execution_count": 12,
   "metadata": {},
   "outputs": [
    {
     "data": {
      "text/plain": [
       "array([[0.0187898 , 0.6176355 , 0.61209572, 0.616934  ],\n",
       "       [0.94374808, 0.6818203 , 0.3595079 , 0.43703195],\n",
       "       [0.6976312 , 0.06022547, 0.66676672, 0.67063787]])"
      ]
     },
     "execution_count": 12,
     "metadata": {},
     "output_type": "execute_result"
    }
   ],
   "source": [
    "#生成矩阵就不同 （）\n",
    "rs_3 = np.random.random_sample((3,4))\n",
    "rs_3"
   ]
  },
  {
   "cell_type": "code",
   "execution_count": 13,
   "metadata": {},
   "outputs": [
    {
     "data": {
      "text/plain": [
       "0.2103825610738409"
      ]
     },
     "execution_count": 13,
     "metadata": {},
     "output_type": "execute_result"
    }
   ],
   "source": [
    "random = np.random.random()\n",
    "random"
   ]
  },
  {
   "cell_type": "code",
   "execution_count": 14,
   "metadata": {},
   "outputs": [
    {
     "data": {
      "text/plain": [
       "array([0.1289263 , 0.31542835, 0.36371077, 0.57019677])"
      ]
     },
     "execution_count": 14,
     "metadata": {},
     "output_type": "execute_result"
    }
   ],
   "source": [
    "random2 = np.random.random(4)\n",
    "random2"
   ]
  },
  {
   "cell_type": "code",
   "execution_count": 15,
   "metadata": {},
   "outputs": [
    {
     "data": {
      "text/plain": [
       "array([[0.43860151, 0.98837384, 0.10204481, 0.20887676],\n",
       "       [0.16130952, 0.65310833, 0.2532916 , 0.46631077],\n",
       "       [0.24442559, 0.15896958, 0.11037514, 0.65632959],\n",
       "       [0.13818295, 0.19658236, 0.36872517, 0.82099323]])"
      ]
     },
     "execution_count": 15,
     "metadata": {},
     "output_type": "execute_result"
    }
   ],
   "source": [
    "random2 = np.random.random((4,4))\n",
    "random2"
   ]
  },
  {
   "cell_type": "code",
   "execution_count": 16,
   "metadata": {},
   "outputs": [],
   "source": [
    "#### random.randint"
   ]
  },
  {
   "cell_type": "code",
   "execution_count": 17,
   "metadata": {},
   "outputs": [
    {
     "data": {
      "text/plain": [
       "0"
      ]
     },
     "execution_count": 17,
     "metadata": {},
     "output_type": "execute_result"
    }
   ],
   "source": [
    "randint = np.random.randint(1)\n",
    "randint"
   ]
  },
  {
   "cell_type": "code",
   "execution_count": 18,
   "metadata": {},
   "outputs": [
    {
     "data": {
      "text/plain": [
       "0"
      ]
     },
     "execution_count": 18,
     "metadata": {},
     "output_type": "execute_result"
    }
   ],
   "source": [
    "randint2 = np.random.randint(4)\n",
    "randint2"
   ]
  },
  {
   "cell_type": "code",
   "execution_count": 19,
   "metadata": {},
   "outputs": [
    {
     "data": {
      "text/plain": [
       "array([3, 4])"
      ]
     },
     "execution_count": 19,
     "metadata": {},
     "output_type": "execute_result"
    }
   ],
   "source": [
    "randint3 = np.random.randint(2,5,(2))\n",
    "randint3"
   ]
  },
  {
   "cell_type": "code",
   "execution_count": 20,
   "metadata": {},
   "outputs": [
    {
     "data": {
      "text/plain": [
       "array([[2, 4, 2, 3],\n",
       "       [4, 4, 3, 2]])"
      ]
     },
     "execution_count": 20,
     "metadata": {},
     "output_type": "execute_result"
    }
   ],
   "source": [
    "randint3 = np.random.randint(2,5,(2,4))\n",
    "randint3"
   ]
  },
  {
   "cell_type": "code",
   "execution_count": 21,
   "metadata": {},
   "outputs": [],
   "source": [
    "#### standard_normal  "
   ]
  },
  {
   "cell_type": "code",
   "execution_count": 22,
   "metadata": {},
   "outputs": [
    {
     "data": {
      "text/plain": [
       "1.4759898324822718"
      ]
     },
     "execution_count": 22,
     "metadata": {},
     "output_type": "execute_result"
    }
   ],
   "source": [
    "stn = np.random.standard_normal()\n",
    "stn"
   ]
  },
  {
   "cell_type": "code",
   "execution_count": 23,
   "metadata": {},
   "outputs": [
    {
     "data": {
      "text/plain": [
       "array([ 0.6467801 , -0.36433431])"
      ]
     },
     "execution_count": 23,
     "metadata": {},
     "output_type": "execute_result"
    }
   ],
   "source": [
    "stn2 = np.random.standard_normal(2)\n",
    "stn2"
   ]
  },
  {
   "cell_type": "code",
   "execution_count": 24,
   "metadata": {},
   "outputs": [
    {
     "data": {
      "text/plain": [
       "array([[-0.67877739, -0.35362786, -0.74074747, -0.67502183],\n",
       "       [-0.13278426,  0.61980106,  1.79116846,  0.17100044]])"
      ]
     },
     "execution_count": 24,
     "metadata": {},
     "output_type": "execute_result"
    }
   ],
   "source": [
    "stn3 = np.random.standard_normal((2,4))\n",
    "stn3"
   ]
  },
  {
   "cell_type": "markdown",
   "metadata": {},
   "source": [
    "#### np.ones ,np.zeros"
   ]
  },
  {
   "cell_type": "code",
   "execution_count": 25,
   "metadata": {},
   "outputs": [
    {
     "data": {
      "text/plain": [
       "array([[1., 1., 1., 1.]])"
      ]
     },
     "execution_count": 25,
     "metadata": {},
     "output_type": "execute_result"
    }
   ],
   "source": [
    "a = np.ones((1,4))\n",
    "a"
   ]
  },
  {
   "cell_type": "code",
   "execution_count": 26,
   "metadata": {},
   "outputs": [
    {
     "data": {
      "text/plain": [
       "array([[0., 0., 0., 0.]])"
      ]
     },
     "execution_count": 26,
     "metadata": {},
     "output_type": "execute_result"
    }
   ],
   "source": [
    "a = np.zeros((1,4))\n",
    "a"
   ]
  },
  {
   "cell_type": "markdown",
   "metadata": {},
   "source": [
    "# np arange() linspace"
   ]
  },
  {
   "cell_type": "code",
   "execution_count": 27,
   "metadata": {},
   "outputs": [
    {
     "data": {
      "text/plain": [
       "array([[0, 1, 2, 3, 4],\n",
       "       [5, 6, 7, 8, 9]])"
      ]
     },
     "execution_count": 27,
     "metadata": {},
     "output_type": "execute_result"
    }
   ],
   "source": [
    "arr = np.arange(10).reshape(2,5)\n",
    "arr"
   ]
  },
  {
   "cell_type": "code",
   "execution_count": 28,
   "metadata": {},
   "outputs": [
    {
     "data": {
      "text/plain": [
       "array([[ 1,  1,  1,  1,  1,  1,  2,  2,  2,  2],\n",
       "       [ 2,  3,  3,  3,  3,  3,  4,  4,  4,  4],\n",
       "       [ 4,  5,  5,  5,  5,  5,  5,  6,  6,  6],\n",
       "       [ 6,  6,  7,  7,  7,  7,  7,  8,  8,  8],\n",
       "       [ 8,  8,  9,  9,  9,  9,  9, 10, 10, 10],\n",
       "       [10, 10, 10, 11, 11, 11, 11, 11, 12, 12],\n",
       "       [12, 12, 12, 13, 13, 13, 13, 13, 14, 14],\n",
       "       [14, 14, 14, 15, 15, 15, 15, 15, 15, 16],\n",
       "       [16, 16, 16, 16, 17, 17, 17, 17, 17, 18],\n",
       "       [18, 18, 18, 18, 19, 19, 19, 19, 19, 20]])"
      ]
     },
     "execution_count": 28,
     "metadata": {},
     "output_type": "execute_result"
    }
   ],
   "source": [
    "#linspace 切片 numpy 版本不同，可能有整数和小数之分\n",
    "arr_lin  = np.linspace(1,20,100).reshape(10,10).astype('int')\n",
    "arr_lin  = np.linspace(1,20,100,dtype='int').reshape(10,10)\n",
    "arr_lin"
   ]
  },
  {
   "cell_type": "code",
   "execution_count": 29,
   "metadata": {},
   "outputs": [
    {
     "data": {
      "text/plain": [
       "array([[1, 2, 3, 4, 5, 6],\n",
       "       [1, 2, 3, 4, 5, 6]])"
      ]
     },
     "execution_count": 29,
     "metadata": {},
     "output_type": "execute_result"
    }
   ],
   "source": [
    "arr_arr = np.array([[1,2,3,4,5,6,],[1,2,3,4,5,6,]])\n",
    "arr_arr"
   ]
  },
  {
   "cell_type": "markdown",
   "metadata": {},
   "source": [
    "# np 切片 \\查询\\ 筛选"
   ]
  },
  {
   "cell_type": "markdown",
   "metadata": {},
   "source": [
    "### 切片"
   ]
  },
  {
   "cell_type": "code",
   "execution_count": 30,
   "metadata": {},
   "outputs": [
    {
     "data": {
      "text/plain": [
       "array([[3, 3, 3, 3, 4, 4],\n",
       "       [5, 5, 5, 5, 5, 6]])"
      ]
     },
     "execution_count": 30,
     "metadata": {},
     "output_type": "execute_result"
    }
   ],
   "source": [
    "arr_c = arr_lin[1:3,2:8]\n",
    "arr_c"
   ]
  },
  {
   "cell_type": "code",
   "execution_count": 31,
   "metadata": {},
   "outputs": [
    {
     "data": {
      "text/plain": [
       "array([[2, 3, 3, 3, 3, 3, 4, 4, 4],\n",
       "       [4, 5, 5, 5, 5, 5, 5, 6, 6]])"
      ]
     },
     "execution_count": 31,
     "metadata": {},
     "output_type": "execute_result"
    }
   ],
   "source": [
    "arr_c2 = arr_lin[1:3,0:-1]\n",
    "arr_c2"
   ]
  },
  {
   "cell_type": "code",
   "execution_count": 32,
   "metadata": {},
   "outputs": [
    {
     "data": {
      "text/plain": [
       "array([[2, 3, 3, 3, 3, 3, 4],\n",
       "       [4, 5, 5, 5, 5, 5, 5]])"
      ]
     },
     "execution_count": 32,
     "metadata": {},
     "output_type": "execute_result"
    }
   ],
   "source": [
    "arr_c3 = arr_lin[1:3,0:-3]\n",
    "arr_c3"
   ]
  },
  {
   "cell_type": "code",
   "execution_count": 33,
   "metadata": {},
   "outputs": [
    {
     "data": {
      "text/plain": [
       "array([[2, 3, 3, 4],\n",
       "       [4, 5, 5, 5]])"
      ]
     },
     "execution_count": 33,
     "metadata": {},
     "output_type": "execute_result"
    }
   ],
   "source": [
    "#列间隔取\n",
    "arr_c4 = arr_lin[1:3,0:-3:2]\n",
    "arr_c4"
   ]
  },
  {
   "cell_type": "markdown",
   "metadata": {},
   "source": [
    "#### np.where"
   ]
  },
  {
   "cell_type": "code",
   "execution_count": 34,
   "metadata": {},
   "outputs": [
    {
     "data": {
      "text/plain": [
       "array([ 5,  5,  5,  5,  5,  5,  6,  6,  6,  6,  6,  7,  7,  7,  7,  7,  8,\n",
       "        8,  8,  8,  8,  9,  9,  9,  9,  9, 10, 10, 10, 10, 10, 10, 11, 11,\n",
       "       11, 11, 11, 12, 12, 12, 12, 12, 13, 13, 13, 13, 13, 14, 14, 14, 14,\n",
       "       14, 15, 15, 15, 15, 15, 15, 16, 16, 16, 16, 16, 17, 17, 17, 17, 17,\n",
       "       18, 18, 18, 18, 18, 19, 19, 19, 19, 19, 20])"
      ]
     },
     "execution_count": 34,
     "metadata": {},
     "output_type": "execute_result"
    }
   ],
   "source": [
    "arr_wh = arr_lin[np.where(arr_lin>4)]\n",
    "arr_wh"
   ]
  },
  {
   "cell_type": "code",
   "execution_count": 35,
   "metadata": {},
   "outputs": [
    {
     "data": {
      "text/plain": [
       "array([['#', '#', '#', '#', '#', '#', '#', '#', '#', '#'],\n",
       "       ['#', '#', '#', '#', '#', '#', '#', '#', '#', '#'],\n",
       "       ['#', '0', '0', '0', '0', '0', '0', '0', '0', '0'],\n",
       "       ['0', '0', '0', '0', '0', '0', '0', '0', '0', '0'],\n",
       "       ['0', '0', '0', '0', '0', '0', '0', '0', '0', '0'],\n",
       "       ['0', '0', '0', '0', '0', '0', '0', '0', '0', '0'],\n",
       "       ['0', '0', '0', '0', '0', '0', '0', '0', '0', '0'],\n",
       "       ['0', '0', '0', '0', '0', '0', '0', '0', '0', '0'],\n",
       "       ['0', '0', '0', '0', '0', '0', '0', '0', '0', '0'],\n",
       "       ['0', '0', '0', '0', '0', '0', '0', '0', '0', '0']], dtype='<U11')"
      ]
     },
     "execution_count": 35,
     "metadata": {},
     "output_type": "execute_result"
    }
   ],
   "source": [
    "arr_wh2 =  np.where(arr_lin>4,0,\"#\")# 满足为0，不满足为#\n",
    "arr_wh2"
   ]
  },
  {
   "cell_type": "markdown",
   "metadata": {},
   "source": [
    "# np 修改"
   ]
  },
  {
   "cell_type": "code",
   "execution_count": 36,
   "metadata": {},
   "outputs": [],
   "source": [
    "#### np 深度拷贝"
   ]
  },
  {
   "cell_type": "code",
   "execution_count": 37,
   "metadata": {},
   "outputs": [],
   "source": [
    "arr_mv = arr_lin.copy()"
   ]
  },
  {
   "cell_type": "code",
   "execution_count": 38,
   "metadata": {},
   "outputs": [
    {
     "data": {
      "text/plain": [
       "array([[ 2,  2,  2,  2,  2,  2,  2,  2,  2,  2],\n",
       "       [ 2,  2,  2,  2,  2,  2,  2,  2,  2,  2],\n",
       "       [ 2,  5,  5,  5,  5,  5,  5,  6,  6,  6],\n",
       "       [ 6,  6,  7,  7,  7,  7,  7,  8,  8,  8],\n",
       "       [ 8,  8,  9,  9,  9,  9,  9, 10, 10, 10],\n",
       "       [10, 10, 10, 11, 11, 11, 11, 11, 12, 12],\n",
       "       [12, 12, 12, 13, 13, 13, 13, 13, 14, 14],\n",
       "       [14, 14, 14, 15, 15, 15, 15, 15, 15, 16],\n",
       "       [16, 16, 16, 16, 17, 17, 17, 17, 17, 18],\n",
       "       [18, 18, 18, 18, 19, 19, 19, 19, 19, 20]])"
      ]
     },
     "execution_count": 38,
     "metadata": {},
     "output_type": "execute_result"
    }
   ],
   "source": [
    "##修改值\n",
    "\n",
    "arr_mv[arr_mv<5]=2\n",
    "arr_mv"
   ]
  },
  {
   "cell_type": "code",
   "execution_count": 39,
   "metadata": {},
   "outputs": [
    {
     "data": {
      "text/plain": [
       "array([[ 0,  0,  0,  0,  0,  0,  0,  0,  0,  0],\n",
       "       [ 2,  2,  2,  2,  2,  2,  2,  2,  2,  2],\n",
       "       [ 2,  5,  5,  5,  5,  5,  5,  6,  6,  6],\n",
       "       [ 6,  6,  7,  7,  7,  7,  7,  8,  8,  8],\n",
       "       [ 8,  8,  9,  9,  9,  9,  9, 10, 10, 10],\n",
       "       [10, 10, 10, 11, 11, 11, 11, 11, 12, 12],\n",
       "       [12, 12, 12, 13, 13, 13, 13, 13, 14, 14],\n",
       "       [14, 14, 14, 15, 15, 15, 15, 15, 15, 16],\n",
       "       [16, 16, 16, 16, 17, 17, 17, 17, 17, 18],\n",
       "       [18, 18, 18, 18, 19, 19, 19, 19, 19, 20]])"
      ]
     },
     "execution_count": 39,
     "metadata": {},
     "output_type": "execute_result"
    }
   ],
   "source": [
    "arr_mv[0,:]=0\n",
    "arr_mv"
   ]
  },
  {
   "cell_type": "markdown",
   "metadata": {},
   "source": [
    "### 修改数据类型"
   ]
  },
  {
   "cell_type": "code",
   "execution_count": 40,
   "metadata": {},
   "outputs": [
    {
     "data": {
      "text/plain": [
       "array([[ 1.,  1.,  1.,  1.,  1.,  1.,  2.,  2.,  2.,  2.],\n",
       "       [ 2.,  3.,  3.,  3.,  3.,  3.,  4.,  4.,  4.,  4.],\n",
       "       [ 4.,  5.,  5.,  5.,  5.,  5.,  5.,  6.,  6.,  6.],\n",
       "       [ 6.,  6.,  7.,  7.,  7.,  7.,  7.,  8.,  8.,  8.],\n",
       "       [ 8.,  8.,  9.,  9.,  9.,  9.,  9., 10., 10., 10.],\n",
       "       [10., 10., 10., 11., 11., 11., 11., 11., 12., 12.],\n",
       "       [12., 12., 12., 13., 13., 13., 13., 13., 14., 14.],\n",
       "       [14., 14., 14., 15., 15., 15., 15., 15., 15., 16.],\n",
       "       [16., 16., 16., 16., 17., 17., 17., 17., 17., 18.],\n",
       "       [18., 18., 18., 18., 19., 19., 19., 19., 19., 20.]])"
      ]
     },
     "execution_count": 40,
     "metadata": {},
     "output_type": "execute_result"
    }
   ],
   "source": [
    "arr_ty = arr_lin.copy()\n",
    "arr_ty = arr_ty.astype('float')\n",
    "arr_ty"
   ]
  },
  {
   "cell_type": "code",
   "execution_count": 41,
   "metadata": {},
   "outputs": [],
   "source": [
    "### 修改nan异常值\n",
    "### 把一个值改为nan 时，首先这个值必须是float类型\n",
    "### inf 也同一个道理"
   ]
  },
  {
   "cell_type": "code",
   "execution_count": 42,
   "metadata": {},
   "outputs": [
    {
     "data": {
      "text/plain": [
       "array([[nan, nan, nan, nan, nan, nan, nan, nan, nan, nan],\n",
       "       [ 2.,  3.,  3.,  3.,  3.,  3.,  4.,  4.,  4.,  4.],\n",
       "       [ 4.,  5.,  5.,  5.,  5.,  5.,  5.,  6.,  6.,  6.],\n",
       "       [ 6.,  6.,  7.,  7.,  7.,  7.,  7.,  8.,  8.,  8.],\n",
       "       [ 8.,  8.,  9.,  9.,  9.,  9.,  9., 10., 10., 10.],\n",
       "       [10., 10., 10., 11., 11., 11., 11., 11., 12., 12.],\n",
       "       [12., 12., 12., 13., 13., 13., 13., 13., 14., 14.],\n",
       "       [14., 14., 14., 15., 15., 15., 15., 15., 15., 16.],\n",
       "       [16., 16., 16., 16., 17., 17., 17., 17., 17., 18.],\n",
       "       [18., 18., 18., 18., 19., 19., 19., 19., 19., 20.]])"
      ]
     },
     "execution_count": 42,
     "metadata": {},
     "output_type": "execute_result"
    }
   ],
   "source": [
    "### 把一个值改为nan 时，首先这个值必须是float类型\n",
    "arr_na = arr_lin.copy().astype('float')\n",
    "arr_na[0:1,:]=np.nan\n",
    "arr_na"
   ]
  },
  {
   "cell_type": "code",
   "execution_count": 43,
   "metadata": {},
   "outputs": [
    {
     "data": {
      "text/plain": [
       "array([[ 2.,  2.,  2.,  2.,  2.,  2.,  2.,  2.,  2.,  2.],\n",
       "       [ 2.,  3.,  3.,  3.,  3.,  3.,  4.,  4.,  4.,  4.],\n",
       "       [ 4.,  5.,  5.,  5.,  5.,  5.,  5.,  6.,  6.,  6.],\n",
       "       [ 6.,  6.,  7.,  7.,  7.,  7.,  7.,  8.,  8.,  8.],\n",
       "       [ 8.,  8.,  9.,  9.,  9.,  9.,  9., 10., 10., 10.],\n",
       "       [10., 10., 10., 11., 11., 11., 11., 11., 12., 12.],\n",
       "       [12., 12., 12., 13., 13., 13., 13., 13., 14., 14.],\n",
       "       [14., 14., 14., 15., 15., 15., 15., 15., 15., 16.],\n",
       "       [16., 16., 16., 16., 17., 17., 17., 17., 17., 18.],\n",
       "       [18., 18., 18., 18., 19., 19., 19., 19., 19., 20.]])"
      ]
     },
     "execution_count": 43,
     "metadata": {},
     "output_type": "execute_result"
    }
   ],
   "source": [
    "##修改\n",
    "arr_na[np.isnan(arr_na)]=2\n",
    "arr_na"
   ]
  },
  {
   "cell_type": "markdown",
   "metadata": {},
   "source": [
    "#### 修改 inf"
   ]
  },
  {
   "cell_type": "code",
   "execution_count": 44,
   "metadata": {},
   "outputs": [
    {
     "data": {
      "text/plain": [
       "array([[inf, inf, inf, inf, inf, inf, inf, inf, inf, inf],\n",
       "       [ 2.,  3.,  3.,  3.,  3.,  3.,  4.,  4.,  4.,  4.],\n",
       "       [ 4.,  5.,  5.,  5.,  5.,  5.,  5.,  6.,  6.,  6.],\n",
       "       [ 6.,  6.,  7.,  7.,  7.,  7.,  7.,  8.,  8.,  8.],\n",
       "       [ 8.,  8.,  9.,  9.,  9.,  9.,  9., 10., 10., 10.],\n",
       "       [10., 10., 10., 11., 11., 11., 11., 11., 12., 12.],\n",
       "       [12., 12., 12., 13., 13., 13., 13., 13., 14., 14.],\n",
       "       [14., 14., 14., 15., 15., 15., 15., 15., 15., 16.],\n",
       "       [16., 16., 16., 16., 17., 17., 17., 17., 17., 18.],\n",
       "       [18., 18., 18., 18., 19., 19., 19., 19., 19., 20.]])"
      ]
     },
     "execution_count": 44,
     "metadata": {},
     "output_type": "execute_result"
    }
   ],
   "source": [
    "### 把一个值改为 inf 时，首先这个值必须是float类型\n",
    "arr_inf = arr_lin.copy().astype('float')\n",
    "arr_inf[0:1,:]=np.inf\n",
    "arr_inf"
   ]
  },
  {
   "cell_type": "code",
   "execution_count": 45,
   "metadata": {},
   "outputs": [
    {
     "data": {
      "text/plain": [
       "array([[ 2.,  2.,  2.,  2.,  2.,  2.,  2.,  2.,  2.,  2.],\n",
       "       [ 2.,  3.,  3.,  3.,  3.,  3.,  4.,  4.,  4.,  4.],\n",
       "       [ 4.,  5.,  5.,  5.,  5.,  5.,  5.,  6.,  6.,  6.],\n",
       "       [ 6.,  6.,  7.,  7.,  7.,  7.,  7.,  8.,  8.,  8.],\n",
       "       [ 8.,  8.,  9.,  9.,  9.,  9.,  9., 10., 10., 10.],\n",
       "       [10., 10., 10., 11., 11., 11., 11., 11., 12., 12.],\n",
       "       [12., 12., 12., 13., 13., 13., 13., 13., 14., 14.],\n",
       "       [14., 14., 14., 15., 15., 15., 15., 15., 15., 16.],\n",
       "       [16., 16., 16., 16., 17., 17., 17., 17., 17., 18.],\n",
       "       [18., 18., 18., 18., 19., 19., 19., 19., 19., 20.]])"
      ]
     },
     "execution_count": 45,
     "metadata": {},
     "output_type": "execute_result"
    }
   ],
   "source": [
    "arr_inf[np.isinf(arr_inf)]=2\n",
    "arr_inf"
   ]
  },
  {
   "cell_type": "markdown",
   "metadata": {},
   "source": [
    "# np 改变形状"
   ]
  },
  {
   "cell_type": "code",
   "execution_count": 46,
   "metadata": {},
   "outputs": [
    {
     "data": {
      "text/plain": [
       "array([[ 1,  1,  1,  1,  1,  1,  2,  2,  2,  2,  2,  3,  3,  3,  3,  3,\n",
       "         4,  4,  4,  4],\n",
       "       [ 4,  5,  5,  5,  5,  5,  5,  6,  6,  6,  6,  6,  7,  7,  7,  7,\n",
       "         7,  8,  8,  8],\n",
       "       [ 8,  8,  9,  9,  9,  9,  9, 10, 10, 10, 10, 10, 10, 11, 11, 11,\n",
       "        11, 11, 12, 12],\n",
       "       [12, 12, 12, 13, 13, 13, 13, 13, 14, 14, 14, 14, 14, 15, 15, 15,\n",
       "        15, 15, 15, 16],\n",
       "       [16, 16, 16, 16, 17, 17, 17, 17, 17, 18, 18, 18, 18, 18, 19, 19,\n",
       "        19, 19, 19, 20]])"
      ]
     },
     "execution_count": 46,
     "metadata": {},
     "output_type": "execute_result"
    }
   ],
   "source": [
    "arr_sh = arr_lin.copy()\n",
    "arr_sh2 = arr_sh.reshape(5,20)\n",
    "arr_sh2"
   ]
  },
  {
   "cell_type": "markdown",
   "metadata": {},
   "source": [
    "### 变成一行"
   ]
  },
  {
   "cell_type": "code",
   "execution_count": 47,
   "metadata": {},
   "outputs": [
    {
     "data": {
      "text/plain": [
       "array([ 1,  1,  1,  1,  1,  1,  2,  2,  2,  2,  2,  3,  3,  3,  3,  3,  4,\n",
       "        4,  4,  4,  4,  5,  5,  5,  5,  5,  5,  6,  6,  6,  6,  6,  7,  7,\n",
       "        7,  7,  7,  8,  8,  8,  8,  8,  9,  9,  9,  9,  9, 10, 10, 10, 10,\n",
       "       10, 10, 11, 11, 11, 11, 11, 12, 12, 12, 12, 12, 13, 13, 13, 13, 13,\n",
       "       14, 14, 14, 14, 14, 15, 15, 15, 15, 15, 15, 16, 16, 16, 16, 16, 17,\n",
       "       17, 17, 17, 17, 18, 18, 18, 18, 18, 19, 19, 19, 19, 19, 20])"
      ]
     },
     "execution_count": 47,
     "metadata": {},
     "output_type": "execute_result"
    }
   ],
   "source": [
    "#ravel 改变后子ndarray 元素会影响原来ndarray变化，flatten不会\n",
    "arr_sh3 = arr_sh.flatten()\n",
    "arr_sh3"
   ]
  },
  {
   "cell_type": "code",
   "execution_count": 48,
   "metadata": {},
   "outputs": [
    {
     "data": {
      "text/plain": [
       "array([ 1.,  1.,  1.,  1.,  1.,  1.,  2.,  2.,  2.,  2.,  2.,  3.,  3.,\n",
       "        3.,  3.,  3.,  4.,  4.,  4.,  4.,  4.,  5.,  5.,  5.,  5.,  5.,\n",
       "        5.,  6.,  6.,  6.,  6.,  6.,  7.,  7.,  7.,  7.,  7.,  8.,  8.,\n",
       "        8.,  8.,  8.,  9.,  9.,  9.,  9.,  9., 10., 10., 10., 10., 10.,\n",
       "       10., 11., 11., 11., 11., 11., 12., 12., 12., 12., 12., 13., 13.,\n",
       "       13., 13., 13., 14., 14., 14., 14., 14., 15., 15., 15., 15., 15.,\n",
       "       15., 16., 16., 16., 16., 16., 17., 17., 17., 17., 17., 18., 18.,\n",
       "       18., 18., 18., 19., 19., 19., 19., 19., 20.])"
      ]
     },
     "execution_count": 48,
     "metadata": {},
     "output_type": "execute_result"
    }
   ],
   "source": [
    "arr_sh4 = np.append([],arr_sh)\n",
    "arr_sh4"
   ]
  },
  {
   "cell_type": "markdown",
   "metadata": {},
   "source": [
    "# numpy 算术运算（举证的算术运算）"
   ]
  },
  {
   "cell_type": "code",
   "execution_count": 50,
   "metadata": {},
   "outputs": [
    {
     "data": {
      "text/plain": [
       "array([[ 1,  1,  1,  1,  1,  1,  2,  2,  2,  2],\n",
       "       [ 2,  3,  3,  3,  3,  3,  4,  4,  4,  4],\n",
       "       [ 4,  5,  5,  5,  5,  5,  5,  6,  6,  6],\n",
       "       [ 6,  6,  7,  7,  7,  7,  7,  8,  8,  8],\n",
       "       [ 8,  8,  9,  9,  9,  9,  9, 10, 10, 10],\n",
       "       [10, 10, 10, 11, 11, 11, 11, 11, 12, 12],\n",
       "       [12, 12, 12, 13, 13, 13, 13, 13, 14, 14],\n",
       "       [14, 14, 14, 15, 15, 15, 15, 15, 15, 16],\n",
       "       [16, 16, 16, 16, 17, 17, 17, 17, 17, 18],\n",
       "       [18, 18, 18, 18, 19, 19, 19, 19, 19, 20]])"
      ]
     },
     "execution_count": 50,
     "metadata": {},
     "output_type": "execute_result"
    }
   ],
   "source": [
    "count_arr = arr_lin.copy()\n",
    "count_arr"
   ]
  },
  {
   "cell_type": "code",
   "execution_count": null,
   "metadata": {},
   "outputs": [],
   "source": [
    "#### sum 运行  arr.sum(axis=0),np.sum(arr,axis=0)\n",
    "min\n",
    "max\n",
    "mean\n"
   ]
  },
  {
   "cell_type": "code",
   "execution_count": 52,
   "metadata": {},
   "outputs": [
    {
     "data": {
      "text/plain": [
       "array([ 91,  93,  95,  98, 100, 100, 102, 105, 107, 110])"
      ]
     },
     "execution_count": 52,
     "metadata": {},
     "output_type": "execute_result"
    }
   ],
   "source": [
    "ca = count_arr.sum(axis=0)\n",
    "ca"
   ]
  },
  {
   "cell_type": "code",
   "execution_count": 53,
   "metadata": {},
   "outputs": [
    {
     "data": {
      "text/plain": [
       "array([ 91,  93,  95,  98, 100, 100, 102, 105, 107, 110])"
      ]
     },
     "execution_count": 53,
     "metadata": {},
     "output_type": "execute_result"
    }
   ],
   "source": [
    "ca2 = np.sum(count_arr,axis=0)\n",
    "ca2"
   ]
  },
  {
   "cell_type": "code",
   "execution_count": 58,
   "metadata": {},
   "outputs": [
    {
     "data": {
      "text/plain": [
       "array([ 14,  33,  52,  71,  91, 109, 129, 148, 167, 187])"
      ]
     },
     "execution_count": 58,
     "metadata": {},
     "output_type": "execute_result"
    }
   ],
   "source": [
    "ca3 = np.sum(count_arr,axis=1)\n",
    "ca3"
   ]
  },
  {
   "cell_type": "code",
   "execution_count": 59,
   "metadata": {},
   "outputs": [
    {
     "data": {
      "text/plain": [
       "array([[ 14],\n",
       "       [ 33],\n",
       "       [ 52],\n",
       "       [ 71],\n",
       "       [ 91],\n",
       "       [109],\n",
       "       [129],\n",
       "       [148],\n",
       "       [167],\n",
       "       [187]])"
      ]
     },
     "execution_count": 59,
     "metadata": {},
     "output_type": "execute_result"
    }
   ],
   "source": [
    "ca3 = ca3.reshape(-1,1)\n",
    "ca3"
   ]
  },
  {
   "cell_type": "markdown",
   "metadata": {},
   "source": [
    "#### mean"
   ]
  },
  {
   "cell_type": "code",
   "execution_count": 60,
   "metadata": {},
   "outputs": [
    {
     "data": {
      "text/plain": [
       "array([ 9.1,  9.3,  9.5,  9.8, 10. , 10. , 10.2, 10.5, 10.7, 11. ])"
      ]
     },
     "execution_count": 60,
     "metadata": {},
     "output_type": "execute_result"
    }
   ],
   "source": [
    "me_arr = np.mean(count_arr,axis=0)\n",
    "me_arr"
   ]
  },
  {
   "cell_type": "code",
   "execution_count": 61,
   "metadata": {},
   "outputs": [
    {
     "data": {
      "text/plain": [
       "array([ 1.4,  3.3,  5.2,  7.1,  9.1, 10.9, 12.9, 14.8, 16.7, 18.7])"
      ]
     },
     "execution_count": 61,
     "metadata": {},
     "output_type": "execute_result"
    }
   ],
   "source": [
    "me_arr2 = np.mean(count_arr,axis=1)\n",
    "me_arr2"
   ]
  },
  {
   "cell_type": "markdown",
   "metadata": {},
   "source": [
    "#### max"
   ]
  },
  {
   "cell_type": "code",
   "execution_count": 62,
   "metadata": {},
   "outputs": [
    {
     "data": {
      "text/plain": [
       "array([18, 18, 18, 18, 19, 19, 19, 19, 19, 20])"
      ]
     },
     "execution_count": 62,
     "metadata": {},
     "output_type": "execute_result"
    }
   ],
   "source": [
    "max_arr = np.max(count_arr,axis=0)\n",
    "max_arr"
   ]
  },
  {
   "cell_type": "code",
   "execution_count": 63,
   "metadata": {},
   "outputs": [
    {
     "data": {
      "text/plain": [
       "array([ 2,  4,  6,  8, 10, 12, 14, 16, 18, 20])"
      ]
     },
     "execution_count": 63,
     "metadata": {},
     "output_type": "execute_result"
    }
   ],
   "source": [
    "max_arr = np.max(count_arr,axis=1)\n",
    "max_arr"
   ]
  },
  {
   "cell_type": "code",
   "execution_count": 65,
   "metadata": {},
   "outputs": [
    {
     "data": {
      "text/plain": [
       "3.141592653589793"
      ]
     },
     "execution_count": 65,
     "metadata": {},
     "output_type": "execute_result"
    }
   ],
   "source": [
    "np.pi"
   ]
  },
  {
   "cell_type": "code",
   "execution_count": 66,
   "metadata": {},
   "outputs": [
    {
     "data": {
      "text/plain": [
       "2.718281828459045"
      ]
     },
     "execution_count": 66,
     "metadata": {},
     "output_type": "execute_result"
    }
   ],
   "source": [
    "np.e"
   ]
  },
  {
   "cell_type": "code",
   "execution_count": 67,
   "metadata": {},
   "outputs": [
    {
     "data": {
      "text/plain": [
       "array([2., 3.])"
      ]
     },
     "execution_count": 67,
     "metadata": {},
     "output_type": "execute_result"
    }
   ],
   "source": [
    "np.ceil(np.array([1.2,2.5]))#向上取整"
   ]
  },
  {
   "cell_type": "code",
   "execution_count": 68,
   "metadata": {},
   "outputs": [
    {
     "data": {
      "text/plain": [
       "array([1., 2.])"
      ]
     },
     "execution_count": 68,
     "metadata": {},
     "output_type": "execute_result"
    }
   ],
   "source": [
    "np.ceil(np.floor([1.2,2.5]))#向下取整"
   ]
  },
  {
   "cell_type": "code",
   "execution_count": 69,
   "metadata": {},
   "outputs": [
    {
     "data": {
      "text/plain": [
       "array([1.22, 2.23])"
      ]
     },
     "execution_count": 69,
     "metadata": {},
     "output_type": "execute_result"
    }
   ],
   "source": [
    "np.around(np.array([1.223,2.232]),2)#四舍五入"
   ]
  },
  {
   "cell_type": "code",
   "execution_count": 70,
   "metadata": {},
   "outputs": [
    {
     "data": {
      "text/plain": [
       "array([2., 3.])"
      ]
     },
     "execution_count": 70,
     "metadata": {},
     "output_type": "execute_result"
    }
   ],
   "source": [
    "np.sqrt(np.array([4,9]))"
   ]
  },
  {
   "cell_type": "code",
   "execution_count": 72,
   "metadata": {},
   "outputs": [
    {
     "data": {
      "text/plain": [
       "array([16, 81], dtype=int32)"
      ]
     },
     "execution_count": 72,
     "metadata": {},
     "output_type": "execute_result"
    }
   ],
   "source": [
    "np.square(np.array([4,9]))"
   ]
  },
  {
   "cell_type": "code",
   "execution_count": 74,
   "metadata": {},
   "outputs": [
    {
     "data": {
      "text/plain": [
       "array([16, 81], dtype=int32)"
      ]
     },
     "execution_count": 74,
     "metadata": {},
     "output_type": "execute_result"
    }
   ],
   "source": [
    "np.power(np.array([4,9]),2)"
   ]
  },
  {
   "cell_type": "code",
   "execution_count": 75,
   "metadata": {},
   "outputs": [
    {
     "data": {
      "text/plain": [
       "array([ 1.,  3.,  5.,  7.,  9., 11., 13., 15., 17., 19.])"
      ]
     },
     "execution_count": 75,
     "metadata": {},
     "output_type": "execute_result"
    }
   ],
   "source": [
    "np.median(count_arr,axis=1)#众数"
   ]
  },
  {
   "cell_type": "code",
   "execution_count": 76,
   "metadata": {},
   "outputs": [
    {
     "data": {
      "text/plain": [
       "array([0.48989795, 0.64031242, 0.6       , 0.7       , 0.7       ,\n",
       "       0.7       , 0.7       , 0.6       , 0.64031242, 0.64031242])"
      ]
     },
     "execution_count": 76,
     "metadata": {},
     "output_type": "execute_result"
    }
   ],
   "source": [
    "np.std(count_arr,axis=1)#标准差"
   ]
  },
  {
   "cell_type": "code",
   "execution_count": 77,
   "metadata": {},
   "outputs": [
    {
     "data": {
      "text/plain": [
       "array([0.24, 0.41, 0.36, 0.49, 0.49, 0.49, 0.49, 0.36, 0.41, 0.41])"
      ]
     },
     "execution_count": 77,
     "metadata": {},
     "output_type": "execute_result"
    }
   ],
   "source": [
    "np.var(count_arr,axis=1)#方差"
   ]
  },
  {
   "cell_type": "code",
   "execution_count": 78,
   "metadata": {},
   "outputs": [
    {
     "data": {
      "text/plain": [
       "array([[  1,   2,   3,   4,   5,   6,   8,  10,  12,  14],\n",
       "       [  2,   5,   8,  11,  14,  17,  21,  25,  29,  33],\n",
       "       [  4,   9,  14,  19,  24,  29,  34,  40,  46,  52],\n",
       "       [  6,  12,  19,  26,  33,  40,  47,  55,  63,  71],\n",
       "       [  8,  16,  25,  34,  43,  52,  61,  71,  81,  91],\n",
       "       [ 10,  20,  30,  41,  52,  63,  74,  85,  97, 109],\n",
       "       [ 12,  24,  36,  49,  62,  75,  88, 101, 115, 129],\n",
       "       [ 14,  28,  42,  57,  72,  87, 102, 117, 132, 148],\n",
       "       [ 16,  32,  48,  64,  81,  98, 115, 132, 149, 167],\n",
       "       [ 18,  36,  54,  72,  91, 110, 129, 148, 167, 187]], dtype=int32)"
      ]
     },
     "execution_count": 78,
     "metadata": {},
     "output_type": "execute_result"
    }
   ],
   "source": [
    "np.cumsum(count_arr,axis=1)#累计求和"
   ]
  },
  {
   "cell_type": "code",
   "execution_count": 79,
   "metadata": {},
   "outputs": [
    {
     "data": {
      "text/plain": [
       "array([6, 6, 7, 7, 7, 8, 8, 9, 9, 9], dtype=int64)"
      ]
     },
     "execution_count": 79,
     "metadata": {},
     "output_type": "execute_result"
    }
   ],
   "source": [
    "np.argmax(count_arr,axis=1)"
   ]
  },
  {
   "cell_type": "code",
   "execution_count": 88,
   "metadata": {},
   "outputs": [
    {
     "name": "stdout",
     "output_type": "stream",
     "text": [
      "(2, 10)\n"
     ]
    },
    {
     "data": {
      "text/plain": [
       "array([[2, 3, 3, 3, 3, 3, 4, 4, 4, 4],\n",
       "       [4, 5, 5, 5, 5, 5, 5, 6, 6, 6]])"
      ]
     },
     "execution_count": 88,
     "metadata": {},
     "output_type": "execute_result"
    }
   ],
   "source": [
    "# np 四则运算\n",
    "arr = arr_lin.copy()\n",
    "arr2 = arr[1:3,:]\n",
    "print(arr2.shape)\n",
    "arr2"
   ]
  },
  {
   "cell_type": "code",
   "execution_count": 89,
   "metadata": {},
   "outputs": [
    {
     "name": "stdout",
     "output_type": "stream",
     "text": [
      "(2, 10)\n"
     ]
    },
    {
     "data": {
      "text/plain": [
       "array([[ 6,  6,  7,  7,  7,  7,  7,  8,  8,  8],\n",
       "       [ 8,  8,  9,  9,  9,  9,  9, 10, 10, 10]])"
      ]
     },
     "execution_count": 89,
     "metadata": {},
     "output_type": "execute_result"
    }
   ],
   "source": [
    "arr3 = arr[3:5,:]\n",
    "print(arr3.shape)\n",
    "arr3"
   ]
  },
  {
   "cell_type": "code",
   "execution_count": 84,
   "metadata": {},
   "outputs": [
    {
     "data": {
      "text/plain": [
       "array([[ 8,  9, 10, 10, 10, 10, 11, 12, 12, 12],\n",
       "       [12, 13, 14, 14, 14, 14, 14, 16, 16, 16]])"
      ]
     },
     "execution_count": 84,
     "metadata": {},
     "output_type": "execute_result"
    }
   ],
   "source": [
    "arr2+arr3"
   ]
  },
  {
   "cell_type": "code",
   "execution_count": 85,
   "metadata": {},
   "outputs": [
    {
     "data": {
      "text/plain": [
       "array([[-4, -3, -4, -4, -4, -4, -3, -4, -4, -4],\n",
       "       [-4, -3, -4, -4, -4, -4, -4, -4, -4, -4]])"
      ]
     },
     "execution_count": 85,
     "metadata": {},
     "output_type": "execute_result"
    }
   ],
   "source": [
    "arr2-arr3"
   ]
  },
  {
   "cell_type": "code",
   "execution_count": 86,
   "metadata": {},
   "outputs": [
    {
     "data": {
      "text/plain": [
       "array([[12, 18, 21, 21, 21, 21, 28, 32, 32, 32],\n",
       "       [32, 40, 45, 45, 45, 45, 45, 60, 60, 60]])"
      ]
     },
     "execution_count": 86,
     "metadata": {},
     "output_type": "execute_result"
    }
   ],
   "source": [
    "arr2*arr3"
   ]
  },
  {
   "cell_type": "code",
   "execution_count": 87,
   "metadata": {},
   "outputs": [
    {
     "data": {
      "text/plain": [
       "array([[0.33333333, 0.5       , 0.42857143, 0.42857143, 0.42857143,\n",
       "        0.42857143, 0.57142857, 0.5       , 0.5       , 0.5       ],\n",
       "       [0.5       , 0.625     , 0.55555556, 0.55555556, 0.55555556,\n",
       "        0.55555556, 0.55555556, 0.6       , 0.6       , 0.6       ]])"
      ]
     },
     "execution_count": 87,
     "metadata": {},
     "output_type": "execute_result"
    }
   ],
   "source": [
    "arr2/arr3"
   ]
  },
  {
   "cell_type": "markdown",
   "metadata": {},
   "source": [
    "# 矩阵乘法"
   ]
  },
  {
   "cell_type": "code",
   "execution_count": 91,
   "metadata": {},
   "outputs": [
    {
     "data": {
      "text/plain": [
       "array([[ 6,  6],\n",
       "       [ 7,  7],\n",
       "       [ 7,  7],\n",
       "       [ 7,  8],\n",
       "       [ 8,  8],\n",
       "       [ 8,  8],\n",
       "       [ 9,  9],\n",
       "       [ 9,  9],\n",
       "       [ 9, 10],\n",
       "       [10, 10]])"
      ]
     },
     "execution_count": 91,
     "metadata": {},
     "output_type": "execute_result"
    }
   ],
   "source": [
    "arr4 = arr3.reshape(-1,2)\n",
    "arr4"
   ]
  },
  {
   "cell_type": "code",
   "execution_count": 92,
   "metadata": {},
   "outputs": [
    {
     "data": {
      "text/plain": [
       "array([[271, 278],\n",
       "       [422, 433]])"
      ]
     },
     "execution_count": 92,
     "metadata": {},
     "output_type": "execute_result"
    }
   ],
   "source": [
    "np.dot(arr2,arr4)# 与matmul相同"
   ]
  },
  {
   "cell_type": "code",
   "execution_count": 93,
   "metadata": {},
   "outputs": [
    {
     "data": {
      "text/plain": [
       "array([[271, 278],\n",
       "       [422, 433]])"
      ]
     },
     "execution_count": 93,
     "metadata": {},
     "output_type": "execute_result"
    }
   ],
   "source": [
    "np.matmul(arr2,arr4)"
   ]
  },
  {
   "cell_type": "code",
   "execution_count": 94,
   "metadata": {},
   "outputs": [
    {
     "data": {
      "text/plain": [
       "array([[12, 18, 21, 21, 21, 21, 28, 32, 32, 32],\n",
       "       [32, 40, 45, 45, 45, 45, 45, 60, 60, 60]])"
      ]
     },
     "execution_count": 94,
     "metadata": {},
     "output_type": "execute_result"
    }
   ],
   "source": [
    "np.multiply(arr2,arr3)#与arr2*arr3等同，矩阵对应元素想成"
   ]
  },
  {
   "cell_type": "markdown",
   "metadata": {},
   "source": [
    "# np 合并与拼接\n",
    "\"\"\"\n",
    "np.concatenate([arr,arr2],axis=1)\n",
    "np.hstack(arr,arr2)\n",
    "np.c_[arr,arr2]\n",
    "\"\"\""
   ]
  },
  {
   "cell_type": "code",
   "execution_count": 105,
   "metadata": {},
   "outputs": [
    {
     "data": {
      "text/plain": [
       "array([[ 2,  3,  3,  3,  3,  3,  4,  4,  4,  4],\n",
       "       [ 4,  5,  5,  5,  5,  5,  5,  6,  6,  6],\n",
       "       [ 6,  6,  7,  7,  7,  7,  7,  8,  8,  8],\n",
       "       [ 8,  8,  9,  9,  9,  9,  9, 10, 10, 10]])"
      ]
     },
     "execution_count": 105,
     "metadata": {},
     "output_type": "execute_result"
    }
   ],
   "source": [
    "np.concatenate([arr2,arr3],axis=0)#可按列 也可按行"
   ]
  },
  {
   "cell_type": "code",
   "execution_count": 99,
   "metadata": {},
   "outputs": [
    {
     "data": {
      "text/plain": [
       "array([[ 2,  3,  3,  3,  3,  3,  4,  4,  4,  4,  6,  6,  7,  7,  7,  7,\n",
       "         7,  8,  8,  8],\n",
       "       [ 4,  5,  5,  5,  5,  5,  5,  6,  6,  6,  8,  8,  9,  9,  9,  9,\n",
       "         9, 10, 10, 10]])"
      ]
     },
     "execution_count": 99,
     "metadata": {},
     "output_type": "execute_result"
    }
   ],
   "source": [
    "np.hstack([arr2,arr3])#按列拼接"
   ]
  },
  {
   "cell_type": "code",
   "execution_count": 100,
   "metadata": {},
   "outputs": [
    {
     "data": {
      "text/plain": [
       "array([[ 2,  3,  3,  3,  3,  3,  4,  4,  4,  4],\n",
       "       [ 4,  5,  5,  5,  5,  5,  5,  6,  6,  6],\n",
       "       [ 6,  6,  7,  7,  7,  7,  7,  8,  8,  8],\n",
       "       [ 8,  8,  9,  9,  9,  9,  9, 10, 10, 10]])"
      ]
     },
     "execution_count": 100,
     "metadata": {},
     "output_type": "execute_result"
    }
   ],
   "source": [
    "np.vstack([arr2,arr3])#按行拼接"
   ]
  },
  {
   "cell_type": "code",
   "execution_count": 103,
   "metadata": {},
   "outputs": [
    {
     "data": {
      "text/plain": [
       "array([[ 2,  3,  3,  3,  3,  3,  4,  4,  4,  4,  6,  6,  7,  7,  7,  7,\n",
       "         7,  8,  8,  8],\n",
       "       [ 4,  5,  5,  5,  5,  5,  5,  6,  6,  6,  8,  8,  9,  9,  9,  9,\n",
       "         9, 10, 10, 10]])"
      ]
     },
     "execution_count": 103,
     "metadata": {},
     "output_type": "execute_result"
    }
   ],
   "source": [
    "np.c_[arr2,arr3]#按列拼接"
   ]
  },
  {
   "cell_type": "code",
   "execution_count": null,
   "metadata": {},
   "outputs": [],
   "source": [
    "#8、numpy默认是科学计数法存数据格式，怎么改成float\n",
    "#np.set_printopition(supress=True)\n",
    "#限制打印数量          threshold=6\n",
    "#恢复打印限制          threshold=np.nan"
   ]
  },
  {
   "cell_type": "code",
   "execution_count": null,
   "metadata": {},
   "outputs": [],
   "source": [
    "#csv文件读取 保存"
   ]
  },
  {
   "cell_type": "code",
   "execution_count": 106,
   "metadata": {},
   "outputs": [
    {
     "ename": "NameError",
     "evalue": "name 'path' is not defined",
     "output_type": "error",
     "traceback": [
      "\u001b[1;31m---------------------------------------------------------------------------\u001b[0m",
      "\u001b[1;31mNameError\u001b[0m                                 Traceback (most recent call last)",
      "\u001b[1;32m<ipython-input-106-5801e76ff0ec>\u001b[0m in \u001b[0;36m<module>\u001b[1;34m\u001b[0m\n\u001b[1;32m----> 1\u001b[1;33m \u001b[0mdata\u001b[0m \u001b[1;33m=\u001b[0m \u001b[0mnp\u001b[0m\u001b[1;33m.\u001b[0m\u001b[0mgenfromtxt\u001b[0m\u001b[1;33m(\u001b[0m\u001b[0mpath\u001b[0m\u001b[1;33m,\u001b[0m \u001b[0mdelimiter\u001b[0m\u001b[1;33m=\u001b[0m\u001b[1;34m','\u001b[0m\u001b[1;33m,\u001b[0m \u001b[0mskip_header\u001b[0m\u001b[1;33m=\u001b[0m\u001b[1;36m1\u001b[0m\u001b[1;33m,\u001b[0m \u001b[0mfilling_values\u001b[0m\u001b[1;33m=\u001b[0m\u001b[1;33m-\u001b[0m\u001b[1;36m999\u001b[0m\u001b[1;33m,\u001b[0m \u001b[0mdtype\u001b[0m\u001b[1;33m=\u001b[0m\u001b[0mfloat\u001b[0m\u001b[1;33m)\u001b[0m\u001b[1;33m\u001b[0m\u001b[0m\n\u001b[0m\u001b[0;32m      2\u001b[0m \u001b[1;31m##  csv文件保存\u001b[0m\u001b[1;33m\u001b[0m\u001b[1;33m\u001b[0m\u001b[0m\n\u001b[0;32m      3\u001b[0m \u001b[0mpath\u001b[0m \u001b[1;33m=\u001b[0m \u001b[1;34mr'D:\\xxxxx.csv'\u001b[0m\u001b[1;33m\u001b[0m\u001b[0m\n\u001b[0;32m      4\u001b[0m \u001b[0mnp\u001b[0m\u001b[1;33m.\u001b[0m\u001b[0msavetxt\u001b[0m\u001b[1;33m(\u001b[0m\u001b[0mpath\u001b[0m\u001b[1;33m,\u001b[0m \u001b[0mdata\u001b[0m\u001b[1;33m,\u001b[0m \u001b[0mdelimiter\u001b[0m\u001b[1;33m=\u001b[0m\u001b[1;34m\",\"\u001b[0m\u001b[1;33m,\u001b[0m\u001b[0mfmt\u001b[0m\u001b[1;33m=\u001b[0m\u001b[1;34m'%10.5f'\u001b[0m\u001b[1;33m,\u001b[0m\u001b[0mheader\u001b[0m\u001b[1;33m=\u001b[0m\u001b[1;34m' name,age,addr,contry,hoby'\u001b[0m\u001b[1;33m)\u001b[0m\u001b[1;33m\u001b[0m\u001b[0m\n\u001b[0;32m      5\u001b[0m \u001b[1;33m\u001b[0m\u001b[0m\n",
      "\u001b[1;31mNameError\u001b[0m: name 'path' is not defined"
     ]
    }
   ],
   "source": [
    "data = np.genfromtxt(path, delimiter=',', skip_header=1, filling_values=-999, dtype=float)\n",
    "##  csv文件保存\n",
    "path = r'D:\\xxxxx.csv'\n",
    "np.savetxt(path, data, delimiter=\",\",fmt='%10.5f',header=' name,age,addr,contry,hoby')\n",
    "\n",
    "#1、npy文件保存和读取\n",
    "np.save('myarray.npy',data)\n",
    "myarray = np.load('myarray.npy')\n",
    "#2、npz文件保存和读取\n",
    "#savez to save ndarray\n",
    "arr1 = np.arange(10).reshape(2,-1)\n",
    "arr2 = np.repeat(1,10).reshape(2,-1)\n",
    "np.savez('myndarray_npz.npz',arr1,arr2)\n",
    "#load npz\n",
    "arr_npz = np.load('myndarray_npz.npz')\n",
    "# get npz data  eg arr_npz['arr_0']  arr_npz['arr_n']\n",
    "arr1_from_npz = arr_npz['arr_0']"
   ]
  },
  {
   "cell_type": "code",
   "execution_count": null,
   "metadata": {},
   "outputs": [],
   "source": []
  }
 ],
 "metadata": {
  "kernelspec": {
   "display_name": "Python 3",
   "language": "python",
   "name": "python3"
  },
  "language_info": {
   "codemirror_mode": {
    "name": "ipython",
    "version": 3
   },
   "file_extension": ".py",
   "mimetype": "text/x-python",
   "name": "python",
   "nbconvert_exporter": "python",
   "pygments_lexer": "ipython3",
   "version": "3.6.5"
  }
 },
 "nbformat": 4,
 "nbformat_minor": 4
}
